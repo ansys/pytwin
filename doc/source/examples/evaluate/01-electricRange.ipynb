{
  "cells": [
    {
      "cell_type": "code",
      "execution_count": null,
      "metadata": {
        "collapsed": false
      },
      "outputs": [],
      "source": [
        "%matplotlib inline"
      ]
    },
    {
      "cell_type": "markdown",
      "metadata": {},
      "source": [
        "\n# Parametric dynamic Twin evaluation example\nThis example shows how you can\nuse PyTwin to load and evaluate a Twin model and simulate multiple\nparametric variations. The model is used for determining the range of an\nelectric vehicle. The vehicle is represented by a battery, the electric\nloads of the vehicle, and an electric machine connected to a simple 1D\nchassis. The driver controls the vehicle speed to follow a repeated\nsequence of the WLTP cycle (class 3). The mass of the vehicle as well\nas the electric power loads are parameterized so that we can see their\neffects on the overall electric range\n"
      ]
    },
    {
      "cell_type": "markdown",
      "metadata": {},
      "source": [
        "<img src=\"file://_static/electricRange.png\" width=\"400pt\" align=\"center\">\n\n"
      ]
    },
    {
      "cell_type": "code",
      "execution_count": null,
      "metadata": {
        "collapsed": false
      },
      "outputs": [],
      "source": [
        "# sphinx_gallery_thumbnail_path = '_static/electricRange.png'"
      ]
    },
    {
      "cell_type": "markdown",
      "metadata": {},
      "source": [
        "## Perform required imports\nPerform required imports, which includes downloading and importing the input files\n\n"
      ]
    },
    {
      "cell_type": "code",
      "execution_count": null,
      "metadata": {
        "collapsed": false
      },
      "outputs": [],
      "source": [
        "import platform\nimport os\n\nimport matplotlib.pyplot as plt\nimport pandas as pd\n\nfrom pytwin.evaluate import TwinModel\nfrom pytwin import examples\n\ntwin_file = examples.download_file(\"ElectricRangeCS_23R1_other.twin\", \"twin_files\")"
      ]
    },
    {
      "cell_type": "markdown",
      "metadata": {},
      "source": [
        "## User inputs\nDefining user inputs and simulation settings\n\n"
      ]
    },
    {
      "cell_type": "code",
      "execution_count": null,
      "metadata": {
        "collapsed": false
      },
      "outputs": [],
      "source": [
        "time_step = 1.0\ntime_end = 24000.0  # simulating the model for 400 minutes\ndp1 = {\"ElectricRange_powerLoad\": 2000.0, \"ElectricRange_vehicleMass\": 2000.0}\ndp2 = {\"ElectricRange_powerLoad\": 3000.0, \"ElectricRange_vehicleMass\": 2000.0}\ndp3 = {\"ElectricRange_powerLoad\": 2000.0, \"ElectricRange_vehicleMass\": 1500.0}\nsweep = [dp1, dp2, dp3]"
      ]
    },
    {
      "cell_type": "markdown",
      "metadata": {},
      "source": [
        "## Auxiliary functions definition\nDefinition of plot_result_comparison for post-processing the results\n\n"
      ]
    },
    {
      "cell_type": "code",
      "execution_count": null,
      "metadata": {
        "collapsed": false
      },
      "outputs": [],
      "source": [
        "def plot_result_comparison(results: list[pd.DataFrame], sweep: list[dict]):\n    \"\"\"Compare the results obtained from the different parametric simulations executed on the same TwinModel. The\n    results dataset are provided as Pandas Dataframe. The function will plot the different results for few particular\n    variables of interest and save the plot as a file \"results.png\" \"\"\"\n    pd.set_option('display.precision', 12)\n    pd.set_option('display.max_columns', 20)\n    pd.set_option('display.expand_frame_repr', False)\n\n    color = ['g','b','r']\n    # output ordering : time, battery_loss, loads_loss, machine_loss, pack_SoC, position, speed_m, speed_ref,\n    # tau_ref, tau_sns\n    x0_ind = 0\n    y0_ind = 6\n    z0_ind = 7\n    x1_ind = 4\n    y1_ind = 5\n\n    # Plotting the runtime outputs\n    # We will plot 2 different results : the drive cycle results as well as the distance\n    # achieved vs battery state of charge for all the parametric variations\n    fig, ax = plt.subplots(ncols=1, nrows=2, figsize=(18, 7))\n\n    fig.subplots_adjust(hspace=0.5)\n    fig.set_tight_layout({\"pad\": .0})\n\n    axes0 = ax[0]\n\n    results[0].plot(x=x0_ind, y=y0_ind, ax=axes0, label='{}'.format('measured speed'))\n    results[0].plot(x=x0_ind, y=z0_ind, ax=axes0, ls='-.', label='{}'.format('reference speed'))\n\n    axes0.set_title('Drive cycle')\n    axes0.set_xlabel(results[0].columns[x0_ind]+' [sec]')\n    axes0.set_ylabel(results[0].columns[y0_ind]+' [m/s]')\n    axes0.set_xlim((0, 32*60))\n\n    axes1 = ax[1]\n\n    for ind, dp in enumerate(sweep):\n        # Plot runtime results\n        results[ind].plot(x=x1_ind, y=y1_ind, ax=axes1, color=color[ind], label='{}'.format(dp))\n\n    axes1.set_title('Range/distance achieved vs battery SoC')\n    axes1.set_xlabel(results[0].columns[x1_ind])\n    axes1.set_xlim((0.1, 0.9))\n    axes1.set_ylabel(results[0].columns[y1_ind]+' [m]')\n\n    # Show plot\n    plt.show()"
      ]
    },
    {
      "cell_type": "markdown",
      "metadata": {},
      "source": [
        "## Defining external files path\nDefining the runtime log path as well as loading the input data\n\n"
      ]
    },
    {
      "cell_type": "code",
      "execution_count": null,
      "metadata": {
        "collapsed": false
      },
      "outputs": [],
      "source": [
        "#runtime_log = os.path.join(cur_dir, 'model_{}.log'.format(platform.system()))"
      ]
    },
    {
      "cell_type": "markdown",
      "metadata": {},
      "source": [
        "## Loading the Twin Runtime and instantiating it\nLoading the Twin Runtime and instantiating it.\n\n"
      ]
    },
    {
      "cell_type": "code",
      "execution_count": null,
      "metadata": {
        "collapsed": false
      },
      "outputs": [],
      "source": [
        "print('Loading model: {}'.format(twin_file))\ntwin_model = TwinModel(twin_file)"
      ]
    },
    {
      "cell_type": "markdown",
      "metadata": {},
      "source": [
        "## Parametric sweep over the different design points\nSimulating the Twin for each set of parameters values, one time step at a time and collecting corresponding outputs\n\n"
      ]
    },
    {
      "cell_type": "code",
      "execution_count": null,
      "metadata": {
        "collapsed": false
      },
      "outputs": [],
      "source": [
        "results = []\nfor dp in sweep:\n\n    # Twin initialization with the right parameters values and collection of initial outputs values\n    twin_model.initialize_evaluation(parameters=dp)\n    outputs = [twin_model.evaluation_time]\n    for item in twin_model.outputs:\n        outputs.append(twin_model.outputs[item])\n    sim_output = [outputs]\n    while twin_model.evaluation_time < time_end:\n        step = time_step\n        twin_model.evaluate_step_by_step(step_size=step)\n        outputs = [twin_model.evaluation_time]\n        for item in twin_model.outputs:\n            outputs.append(twin_model.outputs[item])\n        sim_output.append(outputs)\n        if twin_model.evaluation_time%1000 == 0.0:\n            print(\"Simulating the model with parameters {}, evaluation time = {}\".format(dp,\n                                                                                         twin_model.evaluation_time))\n    sim_results = pd.DataFrame(sim_output, columns=['Time'] + list(twin_model.outputs),\n                               dtype=float)\n    results.append(sim_results)"
      ]
    },
    {
      "cell_type": "markdown",
      "metadata": {},
      "source": [
        "## Post processing\nPlotting the different results and saving the image on disk\n\n"
      ]
    },
    {
      "cell_type": "code",
      "execution_count": null,
      "metadata": {
        "collapsed": false
      },
      "outputs": [],
      "source": [
        "plot_result_comparison(results, sweep)"
      ]
    }
  ],
  "metadata": {
    "kernelspec": {
      "display_name": "Python 3",
      "language": "python",
      "name": "python3"
    },
    "language_info": {
      "codemirror_mode": {
        "name": "ipython",
        "version": 3
      },
      "file_extension": ".py",
      "mimetype": "text/x-python",
      "name": "python",
      "nbconvert_exporter": "python",
      "pygments_lexer": "ipython3",
      "version": "3.9.7"
    }
  },
  "nbformat": 4,
  "nbformat_minor": 0
}