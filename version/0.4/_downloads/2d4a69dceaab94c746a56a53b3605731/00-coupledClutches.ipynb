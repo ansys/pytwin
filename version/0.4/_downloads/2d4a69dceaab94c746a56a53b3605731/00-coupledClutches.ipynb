{
  "cells": [
    {
      "cell_type": "code",
      "execution_count": null,
      "metadata": {
        "collapsed": false
      },
      "outputs": [],
      "source": [
        "%matplotlib inline"
      ]
    },
    {
      "cell_type": "markdown",
      "metadata": {},
      "source": [
        "\n# Twin evaluation\nThis example shows how you can use PyTwin to load and evaluate a twin model.\nThe model consists of three coupled clutches. It has four inputs (applied torque\nand the three clutch openings) and three outputs (the computed torque on each clutch).\n"
      ]
    },
    {
      "cell_type": "markdown",
      "metadata": {},
      "source": [
        "<img src=\"file://_static/coupledClutches.png\" width=\"400pt\" align=\"center\">\n\n"
      ]
    },
    {
      "cell_type": "code",
      "execution_count": null,
      "metadata": {
        "collapsed": false
      },
      "outputs": [],
      "source": [
        "# sphinx_gallery_thumbnail_path = '_static/coupledClutches.png'"
      ]
    },
    {
      "cell_type": "markdown",
      "metadata": {},
      "source": [
        "## Perform required imports\nPerform required imports, which include downloading and importing the\ninput files.\n\n"
      ]
    },
    {
      "cell_type": "code",
      "execution_count": null,
      "metadata": {
        "collapsed": false
      },
      "outputs": [],
      "source": [
        "import matplotlib.pyplot as plt\nimport pandas as pd\nfrom pytwin import TwinModel, download_file, load_data\n\ntwin_file = download_file(\"CoupledClutches_23R1_other.twin\", \"twin_files\", force_download=True)\ncsv_input = download_file(\"CoupledClutches_input.csv\", \"twin_input_files\", force_download=True)\ntwin_config = download_file(\"CoupledClutches_config.json\", \"twin_input_files\", force_download=True)"
      ]
    },
    {
      "cell_type": "markdown",
      "metadata": {},
      "source": [
        "## Define auxiliary functions\nDefine auxiliary functions for comparing and plotting the results from\ndifferent simulations executed on the same twin model.\n\n"
      ]
    },
    {
      "cell_type": "code",
      "execution_count": null,
      "metadata": {
        "collapsed": false
      },
      "outputs": [],
      "source": [
        "def plot_result_comparison(step_by_step_results: pd.DataFrame, batch_results: pd.DataFrame):\n    \"\"\"Compare the results obtained from two different simulations executed\n    on the same twin model. The two results datasets are provided as Pandas\n    dataframes. The function plots the results for all the outputs.\"\"\"\n    pd.set_option(\"display.precision\", 12)\n    pd.set_option(\"display.max_columns\", 20)\n    pd.set_option(\"display.expand_frame_repr\", False)\n\n    # Plot the runtime outputs\n    columns = step_by_step_results.columns[1::]\n    result_sets = 2  # Results from only step-by-step, batch_mode\n    fig, ax = plt.subplots(ncols=result_sets, nrows=len(columns), figsize=(18, 7))\n    if len(columns) == 1:\n        single_column = True\n    else:\n        single_column = False\n\n    fig.subplots_adjust(hspace=0.5)\n    fig.set_tight_layout({\"pad\": 0.0})\n\n    for ind, col_name in enumerate(columns):\n        # Plot runtime results\n        if single_column:\n            axes0 = ax[0]\n            axes1 = ax[1]\n\n        else:\n            axes0 = ax[ind, 0]\n            axes1 = ax[ind, 1]\n\n        step_by_step_results.plot(x=0, y=col_name, ax=axes0, ls=\":\", color=\"g\", title=\"Twin Runtime - Step by Step\")\n        axes0.legend(loc=2)\n        axes0.set_xlabel(\"Time [s]\")\n\n        # Plot twin results in CSV file in batch mode\n        batch_results.plot(x=0, y=col_name, ax=axes1, ls=\"-.\", color=\"g\", title=\"Twin Runtime - Batch Mode\")\n        axes1.legend(loc=2)\n        axes1.set_xlabel(\"Time [s]\")\n\n        if ind > 0:\n            axes0.set_title(\"\")\n            axes1.set_title(\"\")\n\n    # Show plot\n    plt.show()"
      ]
    },
    {
      "cell_type": "markdown",
      "metadata": {},
      "source": [
        "## Load the twin runtime and external CSV file\nLoad the twin runtime and instantiate it.\n\n"
      ]
    },
    {
      "cell_type": "code",
      "execution_count": null,
      "metadata": {
        "collapsed": false
      },
      "outputs": [],
      "source": [
        "print(\"Loading model: {}\".format(twin_file))\ntwin_model = TwinModel(twin_file)\ntwin_model_input_df = load_data(csv_input)\ndata_dimensions = twin_model_input_df.shape\nnumber_of_datapoints = data_dimensions[0] - 1"
      ]
    },
    {
      "cell_type": "markdown",
      "metadata": {},
      "source": [
        "## Define the initial inputs of the twin model and initialize it\nDefine the inputs of the twin model, initialize it, and collect\nthe output values.\n\n"
      ]
    },
    {
      "cell_type": "code",
      "execution_count": null,
      "metadata": {
        "collapsed": false
      },
      "outputs": [],
      "source": [
        "twin_model.initialize_evaluation(json_config_filepath=twin_config)\noutputs = [twin_model.evaluation_time]\nfor item in twin_model.outputs:\n    outputs.append(twin_model.outputs[item])"
      ]
    },
    {
      "cell_type": "markdown",
      "metadata": {},
      "source": [
        "## Simulate the twin in step by step mode\nLoop over all inputs, simulating the twin at each time step\nand collecting the corresponding output values.\n\n"
      ]
    },
    {
      "cell_type": "code",
      "execution_count": null,
      "metadata": {
        "collapsed": false
      },
      "outputs": [],
      "source": [
        "sim_output_list_step = [outputs]\ndata_index = 0\nwhile data_index < number_of_datapoints:\n    # Gets the stop time of the current simulation step\n    time_end = twin_model_input_df.iloc[data_index + 1][0]\n    step = time_end - twin_model.evaluation_time\n    inputs = dict()\n    for column in twin_model_input_df.columns[1::]:\n        inputs[column] = twin_model_input_df[column][data_index]\n    twin_model.evaluate_step_by_step(step_size=step, inputs=inputs)\n    outputs = [twin_model.evaluation_time]\n    for item in twin_model.outputs:\n        outputs.append(twin_model.outputs[item])\n    sim_output_list_step.append(outputs)\n    data_index += 1\nresults_step_pd = pd.DataFrame(sim_output_list_step, columns=[\"Time\"] + list(twin_model.outputs), dtype=float)"
      ]
    },
    {
      "cell_type": "markdown",
      "metadata": {},
      "source": [
        "## Simulate the twin in batch mode\nReset/re-initialize the twin and run the simulation in batch mode, which\npasses all the input data, simulates all the data points, and collects all\nthe outputs at once.\n\n"
      ]
    },
    {
      "cell_type": "code",
      "execution_count": null,
      "metadata": {
        "collapsed": false
      },
      "outputs": [],
      "source": [
        "data_index = 0\ninputs = dict()\nfor column in twin_model_input_df.columns[1::]:\n    inputs[column] = twin_model_input_df[column][data_index]\ntwin_model.initialize_evaluation(inputs=inputs, json_config_filepath=twin_config)\noutputs = [twin_model.evaluation_time]\nfor item in twin_model.outputs:\n    outputs.append(twin_model.outputs[item])\nresults_batch_pd = twin_model.evaluate_batch(twin_model_input_df)"
      ]
    },
    {
      "cell_type": "markdown",
      "metadata": {},
      "source": [
        "## Plot results\nPlot the results and save the images on disk.\n\n"
      ]
    },
    {
      "cell_type": "code",
      "execution_count": null,
      "metadata": {
        "collapsed": false
      },
      "outputs": [],
      "source": [
        "plot_result_comparison(results_step_pd, results_batch_pd)"
      ]
    }
  ],
  "metadata": {
    "kernelspec": {
      "display_name": "Python 3",
      "language": "python",
      "name": "python3"
    },
    "language_info": {
      "codemirror_mode": {
        "name": "ipython",
        "version": 3
      },
      "file_extension": ".py",
      "mimetype": "text/x-python",
      "name": "python",
      "nbconvert_exporter": "python",
      "pygments_lexer": "ipython3",
      "version": "3.9.13"
    }
  },
  "nbformat": 4,
  "nbformat_minor": 0
}