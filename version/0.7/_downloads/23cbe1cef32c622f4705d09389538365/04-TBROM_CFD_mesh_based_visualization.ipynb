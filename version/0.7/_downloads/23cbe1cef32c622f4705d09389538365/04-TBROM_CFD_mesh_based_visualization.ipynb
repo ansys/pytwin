{
  "cells": [
    {
      "cell_type": "markdown",
      "metadata": {},
      "source": [
        "\n# 3D field ROM example with CFD mesh based visualization\n\nThis example shows how PyTwin can be used to load and evaluate a twin model, and visualize\nthe ROM results on a CFD mesh.\nOnce the twin model is evaluated, PyDPF is used to read in the CFD mesh on which the ROM\nresults will be projected. PyVista is then used to perform the 3D visualization with different\noptions. For more information, see the\n[PyDPF documentation](https://dpf.docs.pyansys.com/version/stable/getting_started/index.html) and\n[PyVista documentation](https://docs.pyvista.org/version/stable/index.html).\n"
      ]
    },
    {
      "cell_type": "markdown",
      "metadata": {},
      "source": [
        "<img src=\"file://_static/TBROM_CFD_mesh_projection.png\" width=\"400pt\" align=\"center\">\n\n"
      ]
    },
    {
      "cell_type": "code",
      "execution_count": null,
      "metadata": {
        "collapsed": false
      },
      "outputs": [],
      "source": [
        "# sphinx_gallery_thumbnail_path = '_static/TBROM_CFD_mesh_projection.png'"
      ]
    },
    {
      "cell_type": "markdown",
      "metadata": {},
      "source": [
        "<div class=\"alert alert-info\"><h4>Note</h4><p>This example uses PyDPF which requires a DPF server installation (version 2024 R1-pre0 or higher)\n  as a first step. More information on how to download and install DPF server is available here :\n  https://dpf.docs.pyansys.com/version/stable/getting_started/index.html#install-dpf-server\n\n  To be able to use the functionalities to project an output field on a mesh, you\n  must have a twin with one or more TBROMs. The output mode coefficients for the TBROMs\n  must be enabled when exporting the TBROMs and connected to twin outputs following\n  these conventions:\n\n  - If there are multiple TBROMs in the twin, the format for the name of the twin\n    output must be ``outField_mode_{mode_index}_{tbrom_name}``.\n  - If there is a single TBROM in the twin, the format for the name of the twin\n    output must be ``outField_mode_{mode_index}``.</p></div>\n<img src=\"file://_static/snapshot_generation.png\" width=\"300pt\" align=\"center\">\n\n"
      ]
    },
    {
      "cell_type": "markdown",
      "metadata": {},
      "source": [
        "<div class=\"alert alert-info\"><h4>Note</h4><p>To be able to use the functionalities to project an output field on a mesh with interpolation,\n  you need to have a Twin with 1 or more TBROM, for which its geometry is embedded when\n  exporting the TBROMs to Twin Builder</p></div>\n<img src=\"file://_static/point_generation.png\" width=\"200pt\" align=\"center\">\n\n"
      ]
    },
    {
      "cell_type": "markdown",
      "metadata": {},
      "source": [
        "<div class=\"alert alert-info\"><h4>Note</h4><p>To be able to use the functionalities to project an output field on a given named selection,\n  you need to have a Twin with 1 or more TBROM, for which Named Selections are defined.</p></div>\n<img src=\"file://_static/TBROM_named_selection.png\" width=\"207pt\" align=\"center\">\n\n"
      ]
    },
    {
      "cell_type": "markdown",
      "metadata": {},
      "source": [
        "## Perform required imports\nPerform required imports, which include downloading and importing the input\nfiles.\n\n"
      ]
    },
    {
      "cell_type": "code",
      "execution_count": null,
      "metadata": {
        "collapsed": false
      },
      "outputs": [],
      "source": [
        "import ansys.dpf.core as dpf\nfrom pytwin import TwinModel, download_file\nimport pyvista as pv\n\ntwin_file = download_file(\"HXVelVectorTBROM_23R2.twin\", \"twin_files\", force_download=True)\ncfd_file = download_file(\"HX_CFD.cas.h5\", \"other_files\", force_download=True)"
      ]
    },
    {
      "cell_type": "markdown",
      "metadata": {},
      "source": [
        "## Define ROM inputs\nDefine the ROM inputs.\n\n"
      ]
    },
    {
      "cell_type": "code",
      "execution_count": null,
      "metadata": {
        "collapsed": false
      },
      "outputs": [],
      "source": [
        "rom_inputs = {\"Mass_Flow_HX\": 75.0, \"Tube_temperature\": 1115.0, \"shell_inlet_temp\": 300.0}"
      ]
    },
    {
      "cell_type": "markdown",
      "metadata": {},
      "source": [
        "## Load the twin runtime and generate temperature results\nLoad the twin runtime, initialize and extract ROM related information.\n\n"
      ]
    },
    {
      "cell_type": "code",
      "execution_count": null,
      "metadata": {
        "collapsed": false
      },
      "outputs": [],
      "source": [
        "print(\"Initializing the Twin\")\ntwin_model = TwinModel(twin_file)\ntwin_model.initialize_evaluation(inputs=rom_inputs)\nrom_name = twin_model.tbrom_names[0]\nnamed_selections = twin_model.get_named_selections(rom_name)"
      ]
    },
    {
      "cell_type": "markdown",
      "metadata": {},
      "source": [
        "## Extract the CFD mesh information for projection\nLoad the Fluent cas file through PyDPF and extract all the zones associated to the ROM's named selections\n\n"
      ]
    },
    {
      "cell_type": "code",
      "execution_count": null,
      "metadata": {
        "collapsed": false
      },
      "outputs": [],
      "source": [
        "print(\"Reading the CFD mesh\")\nds = dpf.DataSources()\nds.set_result_file_path(cfd_file, \"cas\")\nstreams = dpf.operators.metadata.streams_provider(data_sources=ds)\nmodel = dpf.Model(data_sources=ds)\nminfo = model.metadata.mesh_info\nzone_names_vec = minfo.get_property(\"zone_names\")\nzone_ids = zone_names_vec.scoping.ids\nzone_names = list(zone_names_vec.data)\nids = [zone_ids[zone_names.index(name)] for name in named_selections if name in zone_names]\n# extracting the individual grid associated to each named selection and merging all of them in 1 single grid\nwhole_mesh = dpf.operators.mesh.meshes_provider(streams_container=streams, region_scoping=ids).eval()\ntarget_mesh = whole_mesh[-1].grid\ntarget_mesh = target_mesh.merge([whole_mesh[i].grid for i in range(0, len(ids) - 1)])"
      ]
    },
    {
      "cell_type": "markdown",
      "metadata": {},
      "source": [
        "## Project the TBROM field onto the targeted mesh\nThe projection is performed without interpolation. In that case, it is assumed that the TBROM points have the same\norder as the CFD cells to which they are associated to. This is ensured if the same CFD mesh is used for the\nprojection as the one used to generate the training data for this ROM.\n\n"
      ]
    },
    {
      "cell_type": "code",
      "execution_count": null,
      "metadata": {
        "collapsed": false
      },
      "outputs": [],
      "source": [
        "print(\"Projecting the results on target mesh\")\nrom_on_cfd_mesh = twin_model.project_tbrom_on_mesh(rom_name, target_mesh, False)"
      ]
    },
    {
      "cell_type": "markdown",
      "metadata": {},
      "source": [
        "## Post processing and field visualization using PyVista (part 1)\nCreation of the scene and results to display (e.g. velocity vectors field on cross section on top of geometry)\n\n"
      ]
    },
    {
      "cell_type": "code",
      "execution_count": null,
      "metadata": {
        "collapsed": false
      },
      "outputs": [],
      "source": [
        "print(\"Post processing (part 1)\")\nplotter = pv.Plotter()\nplotter.set_background(\"white\")\nplotter.add_axes()\nfull_mesh = rom_on_cfd_mesh\nplotter.add_mesh(full_mesh, color=\"grey\", opacity=0.1)\nslice_data = rom_on_cfd_mesh.slice(normal=[1, 0, 0])\nglyph_data = slice_data.glyph(factor=0.1)\nplotter.add_mesh(glyph_data, scalar_bar_args={\"title\": twin_model.get_field_output_name(rom_name), \"color\": \"black\"})\nplotter.camera_position = [\n    (7.50710902970841, 1.958889533928373, 10.523076657664214),\n    (0.07444126006233703, -0.2615789288414023, 3.0867204291179635),\n    (-0.14373227292696578, 0.9784129497303378, -0.1484895064279887),\n]\nplotter.show()"
      ]
    },
    {
      "cell_type": "markdown",
      "metadata": {},
      "source": [
        "<img src=\"file://_static/TBROM_CFD_mesh_projection.png\" width=\"400pt\" align=\"center\">\n\n"
      ]
    },
    {
      "cell_type": "markdown",
      "metadata": {},
      "source": [
        "## Post processing and field visualization using PyVista (part 2)\nCreation of the scene and results to display (e.g. velocity magnitude on a given boundary on top of geometry)\n\n"
      ]
    },
    {
      "cell_type": "code",
      "execution_count": null,
      "metadata": {
        "collapsed": false
      },
      "outputs": [],
      "source": [
        "print(\"Post processing (part 2)\")\nnamedselection = \"outlet\"\nnsid = [zone_ids[zone_names.index(namedselection)]]\nwhole_mesh = dpf.operators.mesh.meshes_provider(streams_container=streams, region_scoping=nsid).eval()\ntarget_mesh = whole_mesh[0].grid\n# The projection is performed with interpolation (point cloud data interpolated onto target mesh)\nrom_on_outlet_mesh = twin_model.project_tbrom_on_mesh(rom_name, target_mesh, True, namedselection)\nrom_inputs = {\"Mass_Flow_HX\": 85.0, \"Tube_temperature\": 1200.0, \"shell_inlet_temp\": 320.0}\ntwin_model.initialize_evaluation(inputs=rom_inputs)\nrom_on_outlet_mesh = rom_on_outlet_mesh.cell_data_to_point_data()  # averaging cells data to points data\nplotter = pv.Plotter()\nplotter.set_background(\"white\")\nplotter.add_axes()\nplotter.add_mesh(full_mesh, color=\"grey\", opacity=0.25)\nplotter.add_mesh(rom_on_outlet_mesh, scalar_bar_args={\"color\": \"black\"})\nplotter.camera_position = [\n    (3.662661397689252, -4.19966326640998, 2.017884510665788),\n    (0.922469325699475, -1.2872255352003648, 4.932569683791402),\n    (-0.3767521888598233, -0.8079293655117974, 0.4531091794844114),\n]\nplotter.show()"
      ]
    },
    {
      "cell_type": "markdown",
      "metadata": {},
      "source": [
        "<img src=\"file://_static/TBROM_CFD_mesh_projection2.png\" width=\"400pt\" align=\"center\">\n\n"
      ]
    }
  ],
  "metadata": {
    "kernelspec": {
      "display_name": "Python 3",
      "language": "python",
      "name": "python3"
    },
    "language_info": {
      "codemirror_mode": {
        "name": "ipython",
        "version": 3
      },
      "file_extension": ".py",
      "mimetype": "text/x-python",
      "name": "python",
      "nbconvert_exporter": "python",
      "pygments_lexer": "ipython3",
      "version": "3.9.13"
    }
  },
  "nbformat": 4,
  "nbformat_minor": 0
}