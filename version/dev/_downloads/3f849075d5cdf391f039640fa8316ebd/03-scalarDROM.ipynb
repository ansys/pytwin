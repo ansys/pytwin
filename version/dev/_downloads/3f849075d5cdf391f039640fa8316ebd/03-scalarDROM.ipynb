{
  "cells": [
    {
      "cell_type": "markdown",
      "metadata": {},
      "source": [
        "\n# Twin evaluation of a scalar dynamic ROM\nThis example shows how you can use PyTwin to load and evaluate a twin model\nof a scalar dynamic ROM. The ROM is created from a 3D thermal model of a\nheat exchanger. The input is the heat flow. The outputs are the temperatures\nfrom three temperature probes. The workflow for this example performs what-if\nanalysis by deploying a second twin in parallel while simulating the original twin\nso that results from the different predictions can be compared. This comparison\nis done using methods for saving and loading twin states. This example also\nshows how to change the PyTwin working directory location from the default (%temp%)\nto a specified location, where logging files are available.\n"
      ]
    },
    {
      "cell_type": "markdown",
      "metadata": {},
      "source": [
        "<img src=\"file://_static/heatExchangerRS.png\" width=\"400pt\" align=\"center\">\n\n"
      ]
    },
    {
      "cell_type": "code",
      "execution_count": null,
      "metadata": {
        "collapsed": false
      },
      "outputs": [],
      "source": [
        "# sphinx_gallery_thumbnail_path = '_static/scalarDROM.png'"
      ]
    },
    {
      "cell_type": "markdown",
      "metadata": {},
      "source": [
        "## Perform required imports\nPerform required imports, which include downloading and importing the input\nfiles.\n\n"
      ]
    },
    {
      "cell_type": "code",
      "execution_count": null,
      "metadata": {
        "collapsed": false
      },
      "outputs": [],
      "source": [
        "import os\n\nimport matplotlib.pyplot as plt\nimport pandas as pd\nfrom pytwin import TwinModel, download_file, load_data, modify_pytwin_working_dir\n\ntwin_file = download_file(\"HX_scalarDRB_23R1_other.twin\", \"twin_files\", force_download=True)\ncsv_input = download_file(\"HX_scalarDRB_input.csv\", \"twin_input_files\", force_download=True)"
      ]
    },
    {
      "cell_type": "markdown",
      "metadata": {},
      "source": [
        "## Define auxiliary functions\nDefine auxiliary functions for comparing and plotting the results from\ntwo different simulations executed on the same twin model.\n\n"
      ]
    },
    {
      "cell_type": "code",
      "execution_count": null,
      "metadata": {
        "collapsed": false
      },
      "outputs": [],
      "source": [
        "def plot_result_comparison(step_by_step_results: pd.DataFrame, what_if: pd.DataFrame):\n    \"\"\"Compare the results obtained from two different simulations executed on the same\n    twin model. The two results datasets are provided as Pandas dataframes. The function\n    plots the results for all the outputs.\"\"\"\n\n    pd.set_option(\"display.precision\", 12)\n    pd.set_option(\"display.max_columns\", 20)\n    pd.set_option(\"display.expand_frame_repr\", False)\n\n    # Plot runtime outputs\n    columns = step_by_step_results.columns[1::]\n    columns_what_if = what_if.columns[1::]\n    result_sets = 1  # Results from only step-by-step + what-if analysis\n    fig, ax = plt.subplots(ncols=result_sets, nrows=len(columns), figsize=(18, 7))\n    if len(columns) == 1:\n        single_column = True\n    else:\n        single_column = False\n\n    fig.subplots_adjust(hspace=0.5)\n    fig.set_tight_layout({\"pad\": 0.0})\n\n    for ind, col_name in enumerate(columns):\n        # Plot runtime results\n        axes0 = ax[ind]\n\n        step_by_step_results.plot(x=0, y=col_name, ax=axes0, ls=\":\", color=\"g\")\n        axes0.legend(loc=2)\n        axes0.set_xlabel(\"Time [s]\")\n\n        # Plot twin what-if analysis results\n        what_if.plot(x=0, y=columns_what_if[ind], ax=axes0, ls=\"-.\", color=\"g\", title=\"Twin Runtime - What if analysis\")\n\n        if ind > 0:\n            axes0.set_title(\"\")\n\n    # Show plot\n    plt.show()"
      ]
    },
    {
      "cell_type": "markdown",
      "metadata": {},
      "source": [
        "## Change the working directory\nChange the working directory from the default location (%temp%) to a specified\nlocation and load the input data.\n\n"
      ]
    },
    {
      "cell_type": "code",
      "execution_count": null,
      "metadata": {
        "collapsed": false
      },
      "outputs": [],
      "source": [
        "modify_pytwin_working_dir(os.path.join(os.path.dirname(twin_file), \"pyTwinWorkingDir\"))\n\ntwin_model_input_df = load_data(csv_input)\ndata_dimensions = twin_model_input_df.shape\nnumber_of_datapoints = data_dimensions[0] - 1"
      ]
    },
    {
      "cell_type": "markdown",
      "metadata": {},
      "source": [
        "## Load the twin runtime and instantiate it\nLoad the twin runtime and instantiate it.\n\n"
      ]
    },
    {
      "cell_type": "code",
      "execution_count": null,
      "metadata": {
        "collapsed": false
      },
      "outputs": [],
      "source": [
        "print(\"Loading model: {}\".format(twin_file))\ntwin_model = TwinModel(twin_file)\ntwin_model_what_if = None  # the second twin used for what-if analysis"
      ]
    },
    {
      "cell_type": "markdown",
      "metadata": {},
      "source": [
        "## Define the inputs of the twin model and initialize it\nDefine the inputs of the twin model, initialize it, and collect\nthe output values.\n\n"
      ]
    },
    {
      "cell_type": "code",
      "execution_count": null,
      "metadata": {
        "collapsed": false
      },
      "outputs": [],
      "source": [
        "twin_model.initialize_evaluation()\noutputs = [twin_model.evaluation_time]\nfor item in twin_model.outputs:\n    outputs.append(twin_model.outputs[item])"
      ]
    },
    {
      "cell_type": "markdown",
      "metadata": {},
      "source": [
        "## Simulate the twin for each time step\nLoop over all inputs, simulating the twin one time step at a\ntime and collecting the corresponding output values.\n\n"
      ]
    },
    {
      "cell_type": "code",
      "execution_count": null,
      "metadata": {
        "collapsed": false
      },
      "outputs": [],
      "source": [
        "sim_output_list_step = [outputs]\nsim_what_if_output_list_step = []\ndata_index = 0\nwhile data_index < number_of_datapoints:\n    if data_index == int(number_of_datapoints / 4) and twin_model_what_if is None:\n        # Save the original model's current states\n        twin_model.save_state()\n        # Instantiate a new twin model with same TWIN file and load the saved state\n        twin_model_what_if = TwinModel(twin_file)\n        twin_model_what_if.load_state(model_id=twin_model.id, evaluation_time=twin_model.evaluation_time)\n        sim_what_if_output_list_step.append(outputs)\n\n    # Get the stop time of the current simulation step\n    time_end = twin_model_input_df.iloc[data_index + 1][0]\n    step = time_end - twin_model.evaluation_time\n    inputs = dict()\n    for column in twin_model_input_df.columns[1::]:\n        inputs[column] = twin_model_input_df[column][data_index]\n    twin_model.evaluate_step_by_step(step_size=step, inputs=inputs)\n    outputs = [twin_model.evaluation_time]\n    for item in twin_model.outputs:\n        outputs.append(twin_model.outputs[item])\n    sim_output_list_step.append(outputs)\n    if twin_model_what_if is not None:\n        inputs = dict()\n        for column in twin_model_input_df.columns[1::]:\n            inputs[column] = (\n                twin_model_input_df[column][data_index] * 0.9\n            )  # Evaluate the second twin using the same inputs reduced by 10%\n        twin_model_what_if.evaluate_step_by_step(step_size=step, inputs=inputs)\n        outputs = [twin_model_what_if.evaluation_time]\n        for item in twin_model_what_if.outputs:\n            outputs.append(twin_model_what_if.outputs[item])\n        sim_what_if_output_list_step.append(outputs)\n    data_index += 1\nresults_step_pd = pd.DataFrame(sim_output_list_step, columns=[\"Time\"] + list(twin_model.outputs), dtype=float)\n\noutputs_names = list(twin_model.outputs)\noutput_names_parallel = []\nfor i in range(0, len(outputs_names)):\n    output_names_parallel.append(outputs_names[i] + \" - what-if : load reduced by 10%\")\nresults_what_if_step_pd = pd.DataFrame(\n    sim_what_if_output_list_step, columns=[\"Time\"] + output_names_parallel, dtype=float\n)"
      ]
    },
    {
      "cell_type": "markdown",
      "metadata": {},
      "source": [
        "## Plot results\nPlot the results and save the images on disk.\n\n"
      ]
    },
    {
      "cell_type": "code",
      "execution_count": null,
      "metadata": {
        "collapsed": false
      },
      "outputs": [],
      "source": [
        "plot_result_comparison(results_step_pd, results_what_if_step_pd)"
      ]
    }
  ],
  "metadata": {
    "kernelspec": {
      "display_name": "Python 3",
      "language": "python",
      "name": "python3"
    },
    "language_info": {
      "codemirror_mode": {
        "name": "ipython",
        "version": 3
      },
      "file_extension": ".py",
      "mimetype": "text/x-python",
      "name": "python",
      "nbconvert_exporter": "python",
      "pygments_lexer": "ipython3",
      "version": "3.13.3"
    }
  },
  "nbformat": 4,
  "nbformat_minor": 0
}