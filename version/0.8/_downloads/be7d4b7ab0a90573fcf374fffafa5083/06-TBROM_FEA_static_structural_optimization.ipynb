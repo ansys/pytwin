{
  "cells": [
    {
      "cell_type": "markdown",
      "metadata": {},
      "source": [
        "\n# Static structural analysis and optimization using 3D field ROM\n\nThis example shows how PyTwin can be used to perform different types of static structural analysis using 3D field ROM.\nA static structural model of a dog bone is created with Ansys Mechanical. A fixed support is applied on the right hand\nside, while a remote force is supplied on the left hand side. A non-linear structural analysis with plastic material\nbehavior (using steel) is performed to compute the resulting stress field and associated displacement. A static ROM\nhas been generated out of the original 3D model, so that the resulting Twin model can be evaluated using PyTwin,\ngiving the possibilities to evaluate multiple configurations and operating conditions quickly, while keeping\npredictions accuracy similar to original 3D FEA model. The PyTwin worklow illustrates different APIs usage to evaluate\nthe models at different conditions, visualize 3D detailed field results, as well as performing optimization and\ninverse problems.\n"
      ]
    },
    {
      "cell_type": "markdown",
      "metadata": {},
      "source": [
        "<img src=\"file://_static/TBROM_FEA_static_structural_optimization.png\" width=\"400pt\" align=\"center\">\n\n"
      ]
    },
    {
      "cell_type": "code",
      "execution_count": null,
      "metadata": {
        "collapsed": false
      },
      "outputs": [],
      "source": [
        "# sphinx_gallery_thumbnail_path = '_static/TBROM_FEA_static_structural_optimization.png'"
      ]
    },
    {
      "cell_type": "markdown",
      "metadata": {},
      "source": [
        "<div class=\"alert alert-info\"><h4>Note</h4><p>This example uses similar functionalities and requirements as `ref_example_TBROM_FEA_mesh_projection`</p></div>\n\n"
      ]
    },
    {
      "cell_type": "markdown",
      "metadata": {},
      "source": [
        "## Perform required imports\nPerform required imports, which include downloading and importing the input\nfiles.\n\n"
      ]
    },
    {
      "cell_type": "code",
      "execution_count": null,
      "metadata": {
        "collapsed": false
      },
      "outputs": [],
      "source": [
        "import ansys.dpf.core as dpf\nimport matplotlib.pyplot as plt\nimport numpy as np\nimport pandas as pd\nfrom pytwin import TwinModel, download_file\nimport pyvista as pv\nfrom scipy.optimize import minimize\n\ntwin_file = download_file(\"TwinDogBone.twin\", \"twin_files\", force_download=True)\nfea_file = download_file(\"TwinDogBone.rst\", \"other_files\", force_download=True)"
      ]
    },
    {
      "cell_type": "markdown",
      "metadata": {},
      "source": [
        "## Definition of the force values for which the model will be evaluated\nDefine the force range and step size and create a simple design of experiments with uniformly space values.\n\n"
      ]
    },
    {
      "cell_type": "code",
      "execution_count": null,
      "metadata": {
        "collapsed": false
      },
      "outputs": [],
      "source": [
        "applied_force_min = 10.0\napplied_force_max = 920.0\nstep = 5.0\n\ndesign_points = np.linspace(\n    start=applied_force_min, stop=applied_force_max, num=int((applied_force_max - applied_force_min) / step + 1)\n)"
      ]
    },
    {
      "cell_type": "markdown",
      "metadata": {},
      "source": [
        "## Load the twin runtime and generate displacement and stress results for different forces applied.\nLoad the twin runtime, initialize and extract ROM related information.\n\n"
      ]
    },
    {
      "cell_type": "code",
      "execution_count": null,
      "metadata": {
        "collapsed": false
      },
      "outputs": [],
      "source": [
        "print(\"Initializing the Twin\")\ntwin_model = TwinModel(twin_file)\ninput_name = list(twin_model.inputs.keys())[0]\nresults = []\nfor dp in design_points:\n    dp_input = {input_name: dp}\n    twin_model.initialize_evaluation(inputs=dp_input)\n    outputs = [dp]\n    for item in twin_model.outputs:\n        outputs.append(twin_model.outputs[item])\n    results.append(outputs)\n    if dp % 10 * step == 0.0:\n        print(\"Simulating the model with input {}\".format(dp))\nsim_results = pd.DataFrame(results, columns=[input_name] + list(twin_model.outputs), dtype=float)"
      ]
    },
    {
      "cell_type": "markdown",
      "metadata": {},
      "source": [
        "## Results analysis (2D curves, as well as 3D visualization of field results)\nPlot the maximum displacement and stress computed with respect to supplied force\n\n"
      ]
    },
    {
      "cell_type": "code",
      "execution_count": null,
      "metadata": {
        "collapsed": false
      },
      "outputs": [],
      "source": [
        "x_ind = 0\ny0_ind = 1\ny1_ind = 3\n\n# Plot simulation results (outputs versus input)\nfig, ax = plt.subplots(ncols=1, nrows=1, figsize=(18, 7))\n\nfig.subplots_adjust(hspace=0.5)\nfig.set_tight_layout({\"pad\": 0.0})\n\naxes0 = ax\naxes1 = ax.twinx()\n\nsim_results.plot(x=x_ind, y=y0_ind, ax=axes0, color=\"g\", ls=\"-.\", label=\"{}\".format(\"Max Displacement\"))\naxes0.legend(loc=\"upper left\")\nsim_results.plot(x=x_ind, y=y1_ind, ax=axes1, color=\"b\", ls=\"-.\", label=\"{}\".format(\"Max Stress (Von Mises)\"))\naxes1.legend(loc=\"upper right\")\n\naxes0.set_xlabel(sim_results.columns[x_ind] + \" [N]\")\naxes0.set_ylabel(\"Max Displacement\")\naxes1.set_ylabel(\"Max Stress (Von Mises)\")\n\n# Show plot\nplt.show()\n\n# Plot the maximum stress with respect to maximum displacement\ny0_ind = 1\ny1_ind = 3\n\n# Plot simulation results (outputs versus input)\nfig, ax = plt.subplots(ncols=1, nrows=1, figsize=(18, 7))\n\nfig.subplots_adjust(hspace=0.5)\nfig.set_tight_layout({\"pad\": 0.0})\n\naxes0 = ax\n\nsim_results.plot(x=y0_ind, y=y1_ind, ax=axes0, color=\"g\", ls=\"-.\")\n\naxes0.set_xlabel(\"Max Displacement\")\naxes0.set_ylabel(\"Max Stress (Von Mises)\")\n\n# Show plot\nplt.show()"
      ]
    },
    {
      "cell_type": "markdown",
      "metadata": {},
      "source": [
        "## Extract the FEA mesh information for projection\nLoad the Mechanical rst file through PyDPF and extract the mesh\n\n"
      ]
    },
    {
      "cell_type": "code",
      "execution_count": null,
      "metadata": {
        "collapsed": false
      },
      "outputs": [],
      "source": [
        "print(\"Reading the FEA mesh\")\nds = dpf.DataSources()\nds.set_result_file_path(fea_file)\nstreams = dpf.operators.metadata.streams_provider(data_sources=ds)\n\n# extracting the grid associated to the fea model\nwhole_mesh = dpf.operators.mesh.mesh_provider(streams_container=streams).eval()\ntarget_mesh = whole_mesh.grid"
      ]
    },
    {
      "cell_type": "markdown",
      "metadata": {},
      "source": [
        "## Project the deformation field ROM onto the targeted mesh, and visualize\n\n"
      ]
    },
    {
      "cell_type": "code",
      "execution_count": null,
      "metadata": {
        "collapsed": false
      },
      "outputs": [],
      "source": [
        "def_romname = twin_model.tbrom_names[0]  # 0 = Deformation ROM, 1 = Stress ROM\n# field_data = twin_model.get_tbrom_output_field(romname) # point cloud results\ndef_field_data = twin_model.project_tbrom_on_mesh(def_romname, target_mesh, True)  # mesh based results\ndef_plotter = pv.Plotter()\ndef_plotter.set_background(\"white\")\ndef_plotter.add_axes()\ndef_plotter.add_mesh(def_field_data, scalar_bar_args={\"color\": \"black\"})\ndef_plotter.show()"
      ]
    },
    {
      "cell_type": "markdown",
      "metadata": {},
      "source": [
        "<img src=\"file://_static/TBROM_FEA_static_structural_optimization_postPro.png\" width=\"400pt\" align=\"center\">\n\n"
      ]
    },
    {
      "cell_type": "code",
      "execution_count": null,
      "metadata": {
        "collapsed": false
      },
      "outputs": [],
      "source": [
        "stress_romname = twin_model.tbrom_names[1]  # 0 = Deformation ROM, 1 = Stress ROM\nstress_field_data = twin_model.project_tbrom_on_mesh(stress_romname, target_mesh, True)  # mesh based results\nstress_plotter = pv.Plotter()\nstress_plotter.set_background(\"white\")\nstress_plotter.add_axes()\nstress_plotter.add_mesh(stress_field_data, scalar_bar_args={\"color\": \"black\"})\nstress_plotter.show()"
      ]
    },
    {
      "cell_type": "markdown",
      "metadata": {},
      "source": [
        "<img src=\"file://_static/TBROM_FEA_static_structural_optimization_postPro_stress.png\" width=\"400pt\" align=\"center\">\n\n"
      ]
    },
    {
      "cell_type": "markdown",
      "metadata": {},
      "source": [
        "## Using the Twin and ROM for inverse problems\nIn this section, we are going to use a simple optimizer for inverse problems. For example, we want to determine what\nshould be the applied force to get a given maximum stress.\n\n"
      ]
    },
    {
      "cell_type": "code",
      "execution_count": null,
      "metadata": {
        "collapsed": false
      },
      "outputs": [],
      "source": [
        "stress_target = 4.8e8\n\n\ndef example_optimize(input_force):\n    input_name = list(twin_model.inputs.keys())[0]\n    dp_input = {input_name: input_force}\n    twin_model.initialize_evaluation(inputs=dp_input)\n    max_stress_val = twin_model.outputs[\"max_stress\"]\n\n    return np.sqrt((max_stress_val - stress_target) ** 2)\n\n\nbounds = [(1, 920)]\nmymin = minimize(example_optimize, 100, bounds=bounds)\nprint(f\"Found solution : applied force = {mymin['x']}\")\ninput_name = list(twin_model.inputs.keys())[0]\ndp_input = {input_name: mymin[\"x\"]}\ntwin_model.initialize_evaluation(inputs=dp_input)\nprint(f\"Found solution : corresponding maximum stress = {twin_model.outputs['max_stress']}\")"
      ]
    }
  ],
  "metadata": {
    "kernelspec": {
      "display_name": "Python 3",
      "language": "python",
      "name": "python3"
    },
    "language_info": {
      "codemirror_mode": {
        "name": "ipython",
        "version": 3
      },
      "file_extension": ".py",
      "mimetype": "text/x-python",
      "name": "python",
      "nbconvert_exporter": "python",
      "pygments_lexer": "ipython3",
      "version": "3.10.11"
    }
  },
  "nbformat": 4,
  "nbformat_minor": 0
}