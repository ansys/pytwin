{
  "cells": [
    {
      "cell_type": "markdown",
      "metadata": {},
      "source": [
        "\n# Twin evaluation of a 3D field ROM and data transfer to FEA model inputs\n\nThis example shows how PyTwin can be used to load and evaluate a twin model to\npredict CFD results in the form of temperature fields. Temperature fields are\nused as inputs for an FEA thermal structural analysis of a T-junction that considers\nthe mixing of two different flow temperatures. The example uses PyTwin to evaluate\nthe twin results and convert them to an appropriate format. It then uses PyMAPDL to\nload the FEA model, apply the temperature loads coming from the twin, and perform\nthe thermal structural analysis.\n\n<div class=\"alert alert-info\"><h4>Note</h4><p>To generate snapshot files at initialization time, the ROM included in the twin\n   must have its parameter ``field_data_storage_period`` set to ``0`` and its\n   parameter ``store_snapshots`` set to ``1``.\n\n   To generate images files at initialization time, the ROM included in the twin must\n   have the **Embed Geometry** and **Generate Image** options enabled at export time.\n   Additionally, its parameter ``viewX_storage_period`` must be set to ``0``.\n\n   These parameters can be defined in the Twin Builder subsheet before twin compilation\n   or be exposed as twin parameters.</p></div>\n"
      ]
    },
    {
      "cell_type": "markdown",
      "metadata": {},
      "source": [
        "<img src=\"file://_static/TBROM_cosim_pymapdl.png\" width=\"400pt\" align=\"center\">\n\n"
      ]
    },
    {
      "cell_type": "code",
      "execution_count": null,
      "metadata": {
        "collapsed": false
      },
      "outputs": [],
      "source": [
        "# sphinx_gallery_thumbnail_path = '_static/TBROM_cosim_pymapdl.png'"
      ]
    },
    {
      "cell_type": "markdown",
      "metadata": {},
      "source": [
        "## Perform required imports and launch an instance of MAPDL\nPerform required imports, which include downloading and importing the input\nfiles, and launch an instance of MAPDL.\n\n"
      ]
    },
    {
      "cell_type": "code",
      "execution_count": null,
      "metadata": {
        "collapsed": false
      },
      "outputs": [],
      "source": [
        "from ansys.mapdl.core import launch_mapdl\nimport numpy as np\nfrom pytwin import TwinModel, download_file, snapshot_to_array\nimport pyvista as pv\n\ntwin_file = download_file(\"ThermalTBROM_23R1_other.twin\", \"twin_files\", force_download=True)\nfea_file = download_file(\"ThermalTBROM.dat\", \"other_files\", force_download=True)\n\n# start mapdl\nmapdl = launch_mapdl()\nprint(mapdl)"
      ]
    },
    {
      "cell_type": "markdown",
      "metadata": {},
      "source": [
        "## Define inputs\nDefine inputs.\n\n"
      ]
    },
    {
      "cell_type": "code",
      "execution_count": null,
      "metadata": {
        "collapsed": false
      },
      "outputs": [],
      "source": [
        "cfd_inputs = {\"main_inlet_temperature\": 353.15, \"side_inlet_temperature\": 293.15}\nrom_parameters = {\"ThermalROM23R1_1_store_snapshots\": 1}"
      ]
    },
    {
      "cell_type": "markdown",
      "metadata": {},
      "source": [
        "## Import and save the mesh\nReset MAPDL and import the geometry.\n\n"
      ]
    },
    {
      "cell_type": "code",
      "execution_count": null,
      "metadata": {
        "collapsed": false
      },
      "outputs": [],
      "source": [
        "mapdl.clear()\nmapdl.input(fea_file)\n\n# Save the mesh as a VTK object.\nprint(mapdl.mesh)\ngrid = mapdl.mesh.grid  # Save mesh as a VTK object"
      ]
    },
    {
      "cell_type": "markdown",
      "metadata": {},
      "source": [
        "## Load the twin runtime and generate temperature results\nLoad the twin runtime and generate temperature results for the FEA mesh.\n\n"
      ]
    },
    {
      "cell_type": "code",
      "execution_count": null,
      "metadata": {
        "collapsed": false
      },
      "outputs": [],
      "source": [
        "print(\"Loading model: {}\".format(twin_file))\ntwin_model = TwinModel(twin_file)\n\ntwin_model.initialize_evaluation(inputs=cfd_inputs, parameters=rom_parameters)\n\nrom_name = twin_model.tbrom_names[0]\nsnapshot = twin_model.get_snapshot_filepath(rom_name=rom_name)\ngeometry = twin_model.get_geometry_filepath(rom_name=rom_name)"
      ]
    },
    {
      "cell_type": "markdown",
      "metadata": {},
      "source": [
        "## Map temperature data to FEA mesh\nMap the temperature data to the FEA mesh.\n\n"
      ]
    },
    {
      "cell_type": "code",
      "execution_count": null,
      "metadata": {
        "collapsed": false
      },
      "outputs": [],
      "source": [
        "temperature_data = snapshot_to_array(snapshot, geometry)  # Save data to a NumPy array\nnd_temp_data = temperature_data[:, :].astype(float)  # Change data type to float\n\n# Map temperature data to the FE mesh\n# Convert imported data into PolyData format\nwrapped = pv.PolyData(nd_temp_data[:, :3])  # Convert NumPy array to PolyData format\nwrapped[\"temperature\"] = nd_temp_data[:, 3]  # Add a scalar variable 'temperature' to PolyData\n\n# Perform data mapping\ninter_grid = grid.interpolate(\n    wrapped, sharpness=5, radius=0.0001, strategy=\"closest_point\", progress_bar=True\n)  # Map the imported data to MAPDL grid\ninter_grid.plot(show_edges=False)  # Plot the interpolated data on MAPDL grid\ntemperature_load_val = pv.convert_array(\n    pv.convert_array(inter_grid.active_scalars)\n)  # Save temperatures interpolated to each node as a NumPy array\nnode_num = inter_grid.point_data[\"ansys_node_num\"]  # Save node numbers as a NumPy array"
      ]
    },
    {
      "cell_type": "markdown",
      "metadata": {},
      "source": [
        "<img src=\"file://_static/TBROM_cosim_pymapdl_mapping.png\" width=\"400pt\" align=\"center\">\n\n"
      ]
    },
    {
      "cell_type": "markdown",
      "metadata": {},
      "source": [
        "## Apply loads and boundary conditions and solve the model\nApply loads and boundary conditions and then solve the model.\n\n"
      ]
    },
    {
      "cell_type": "code",
      "execution_count": null,
      "metadata": {
        "collapsed": false
      },
      "outputs": [],
      "source": [
        "# Read all nodal coordinates to an array and extract the X and Y\n# minimum bounds\narray_nodes = mapdl.mesh.nodes\nXmax = np.amax(array_nodes[:, 0])\nYmin = np.amin(array_nodes[:, 1])\nYmax = np.amax(array_nodes[:, 1])\n\n# Enter /SOLU processor to apply loads and boundary conditions\nmapdl.finish()\nmapdl.slashsolu()\n\n# Enter non-interactive mode to assign thermal load at each node using imported data\nwith mapdl.non_interactive:\n    for node, temp in zip(node_num, temperature_load_val):\n        mapdl.bf(node, \"TEMP\", temp)\n# Use the X and Y minimum bounds to select nodes from five surfaces that are to be fixed\n# Create a component and fix all degrees of freedom (DoFs)\nmapdl.nsel(\"s\", \"LOC\", \"X\", Xmax)  # Select all nodes whose X coord.=Xmax\nmapdl.nsel(\"a\", \"LOC\", \"Y\", Ymin)  # Select all nodes whose Y coord.=Ymin and add to previous selection\nmapdl.nsel(\"a\", \"LOC\", \"Y\", Ymax)  # Select all nodes whose Y coord.=Ymax and add to previous selection\nmapdl.cm(\"fixed_nodes\", \"NODE\")  # Create a nodal component 'fixed_nodes'\nmapdl.allsel()  # Revert active selection to full model\nmapdl.d(\"fixed_nodes\", \"all\", 0)  # Impose fully fixed constraint on component created earlier\n\n# Solve the model\noutput = mapdl.solve()\nprint(output)"
      ]
    },
    {
      "cell_type": "markdown",
      "metadata": {},
      "source": [
        "## Plot equivalent stress\nPlot equivalent stress.\n\n"
      ]
    },
    {
      "cell_type": "code",
      "execution_count": null,
      "metadata": {
        "collapsed": false
      },
      "outputs": [],
      "source": [
        "mapdl.post1()  # Enter postprocessor\nmapdl.set(1, 1)  # Select first load step\nmapdl.post_processing.plot_nodal_eqv_stress()  # Plot equivalent stress"
      ]
    },
    {
      "cell_type": "markdown",
      "metadata": {},
      "source": [
        "<img src=\"file://_static/TBROM_cosim_pymapdl_results.png\" width=\"400pt\" align=\"center\">\n\n"
      ]
    },
    {
      "cell_type": "markdown",
      "metadata": {},
      "source": [
        "## Exit MAPDL instance\nExit the MAPDL instance.\n\n"
      ]
    },
    {
      "cell_type": "code",
      "execution_count": null,
      "metadata": {
        "collapsed": false
      },
      "outputs": [],
      "source": [
        "mapdl.exit()"
      ]
    }
  ],
  "metadata": {
    "kernelspec": {
      "display_name": "Python 3",
      "language": "python",
      "name": "python3"
    },
    "language_info": {
      "codemirror_mode": {
        "name": "ipython",
        "version": 3
      },
      "file_extension": ".py",
      "mimetype": "text/x-python",
      "name": "python",
      "nbconvert_exporter": "python",
      "pygments_lexer": "ipython3",
      "version": "3.10.11"
    }
  },
  "nbformat": 4,
  "nbformat_minor": 0
}