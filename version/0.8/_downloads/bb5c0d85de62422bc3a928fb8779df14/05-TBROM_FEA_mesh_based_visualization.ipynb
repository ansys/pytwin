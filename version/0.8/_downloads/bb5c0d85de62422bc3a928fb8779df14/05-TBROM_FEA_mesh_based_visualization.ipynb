{
  "cells": [
    {
      "cell_type": "markdown",
      "metadata": {},
      "source": [
        "\n# 3D field ROM example with FEA mesh based visualization\n\nThis example shows how PyTwin can be used to load and evaluate a twin model, and visualize\nthe ROM results on a FEA mesh.\nOnce the twin model is evaluated, PyDPF is used to read in the FEA mesh on which the ROM\nresults will be projected. PyVista is then used to perform the 3D visualization with different\noptions. For more information, see the\n[PyDPF documentation](https://dpf.docs.pyansys.com/version/stable/getting_started/index.html) and\n[PyVista documentation](https://docs.pyvista.org/version/stable/index.html).\n"
      ]
    },
    {
      "cell_type": "markdown",
      "metadata": {},
      "source": [
        "<img src=\"file://_static/TBROM_FEA_mesh_projection.png\" width=\"400pt\" align=\"center\">\n\n"
      ]
    },
    {
      "cell_type": "code",
      "execution_count": null,
      "metadata": {
        "collapsed": false
      },
      "outputs": [],
      "source": [
        "# sphinx_gallery_thumbnail_path = '_static/TBROM_FEA_mesh_projection.png'"
      ]
    },
    {
      "cell_type": "markdown",
      "metadata": {},
      "source": [
        "<div class=\"alert alert-info\"><h4>Note</h4><p>This example uses PyDPF which requires a DPF server installation (version 2024 R1-pre0 or higher)\n  as a first step. More information on how to download and install DPF server is available here :\n  https://dpf.docs.pyansys.com/version/stable/getting_started/index.html#install-dpf-server\n\n  To be able to use the functionalities to project an output field on a mesh, you\n  must have a twin with one or more TBROMs. The output mode coefficients for the TBROMs\n  must be enabled when exporting the TBROMs and connected to twin outputs following\n  these conventions:\n\n  - If there are multiple TBROMs in the twin, the format for the name of the twin\n    output must be ``outField_mode_{mode_index}_{tbrom_name}``.\n  - If there is a single TBROM in the twin, the format for the name of the twin\n    output must be ``outField_mode_{mode_index}``.</p></div>\n<img src=\"file://_static/snapshot_generation.png\" width=\"300pt\" align=\"center\">\n\n"
      ]
    },
    {
      "cell_type": "markdown",
      "metadata": {},
      "source": [
        "<div class=\"alert alert-info\"><h4>Note</h4><p>To be able to use the functionalities to project an output field on a mesh with interpolation,\n  you need to have a Twin with 1 or more TBROM, for which its geometry is embedded when\n  exporting the TBROMs to Twin Builder</p></div>\n<img src=\"file://_static/point_generation.png\" width=\"200pt\" align=\"center\">\n\n"
      ]
    },
    {
      "cell_type": "markdown",
      "metadata": {},
      "source": [
        "## Perform required imports\nPerform required imports, which include downloading and importing the input\nfiles.\n\n"
      ]
    },
    {
      "cell_type": "code",
      "execution_count": null,
      "metadata": {
        "collapsed": false
      },
      "outputs": [],
      "source": [
        "import ansys.dpf.core as dpf\nfrom pytwin import TwinModel, download_file\nimport pyvista as pv\n\ntwin_file = download_file(\"FEADeformationTBROM_23R2.twin\", \"twin_files\", force_download=True)\nfea_file = download_file(\"FEA_deformation.rst\", \"other_files\", force_download=True)"
      ]
    },
    {
      "cell_type": "markdown",
      "metadata": {},
      "source": [
        "## Define ROM inputs\nDefine the ROM inputs.\n\n"
      ]
    },
    {
      "cell_type": "code",
      "execution_count": null,
      "metadata": {
        "collapsed": false
      },
      "outputs": [],
      "source": [
        "rom_inputs = {\"Force_X_Component\": 101.471}"
      ]
    },
    {
      "cell_type": "markdown",
      "metadata": {},
      "source": [
        "## Load the twin runtime and generate displacement results\nLoad the twin runtime, initialize and extract ROM related information.\n\n"
      ]
    },
    {
      "cell_type": "code",
      "execution_count": null,
      "metadata": {
        "collapsed": false
      },
      "outputs": [],
      "source": [
        "print(\"Initializing the Twin\")\ntwin_model = TwinModel(twin_file)\ntwin_model.initialize_evaluation(inputs=rom_inputs)\nrom_name = twin_model.tbrom_names[0]\noutput_name = twin_model.get_field_output_name(rom_name)\nnamed_selections = twin_model.get_named_selections(rom_name)"
      ]
    },
    {
      "cell_type": "markdown",
      "metadata": {},
      "source": [
        "## Extract the FEA mesh information for projection\nLoad the Mechanical rst file through PyDPF and extract the mesh\n\n"
      ]
    },
    {
      "cell_type": "code",
      "execution_count": null,
      "metadata": {
        "collapsed": false
      },
      "outputs": [],
      "source": [
        "print(\"Reading the FEA mesh\")\nds = dpf.DataSources()\nds.set_result_file_path(fea_file)\nstreams = dpf.operators.metadata.streams_provider(data_sources=ds)\n\n# extracting the grid associated to the fea model\nwhole_mesh = dpf.operators.mesh.mesh_provider(streams_container=streams).eval()\ntarget_mesh = whole_mesh.grid"
      ]
    },
    {
      "cell_type": "markdown",
      "metadata": {},
      "source": [
        "## Project the TBROM field onto the targeted mesh\nThe projection is performed without interpolation (i.e. direct mapping of data)\n\n"
      ]
    },
    {
      "cell_type": "code",
      "execution_count": null,
      "metadata": {
        "collapsed": false
      },
      "outputs": [],
      "source": [
        "print(\"Projecting the results on target mesh\")\nrom_on_fea_mesh = twin_model.project_tbrom_on_mesh(rom_name, target_mesh, False)"
      ]
    },
    {
      "cell_type": "markdown",
      "metadata": {},
      "source": [
        "## Deform the target mesh using the ROM displacement\nROM was generated from a large deformation analysis, so use a scale factor of 1\n\n"
      ]
    },
    {
      "cell_type": "code",
      "execution_count": null,
      "metadata": {
        "collapsed": false
      },
      "outputs": [],
      "source": [
        "print(\"Deforming the target mesh\")\nrom_on_fea_deformed_mesh = rom_on_fea_mesh.warp_by_vector(\"Deformation\", factor=1)"
      ]
    },
    {
      "cell_type": "markdown",
      "metadata": {},
      "source": [
        "## Post processing and field visualization using PyVista\nCreation of the scene and results to display\n\n"
      ]
    },
    {
      "cell_type": "code",
      "execution_count": null,
      "metadata": {
        "collapsed": false
      },
      "outputs": [],
      "source": [
        "print(\"Post processing\")\nplotter = pv.Plotter()\nplotter.set_background(\"white\")\nplotter.add_axes()\nplotter.add_mesh(rom_on_fea_deformed_mesh, scalar_bar_args={\"color\": \"black\"})\n# plotter.add_mesh(mesh_data, show_edges=True, scalar_bar_args={\"color\": \"black\"})\nplotter.camera_position = [\n    (-0.03962092584614037, 0.013987037327583286, 0.10356162483172728),\n    (0.015819278345, 0.0001320060299999995, 0.005),\n    (0.05026854357305644, 0.9925208192698814, -0.11124521042672807),\n]\nplotter.show()"
      ]
    },
    {
      "cell_type": "markdown",
      "metadata": {},
      "source": [
        "<img src=\"file://_static/TBROM_FEA_mesh_projection.png\" width=\"400pt\" align=\"center\">\n\n"
      ]
    }
  ],
  "metadata": {
    "kernelspec": {
      "display_name": "Python 3",
      "language": "python",
      "name": "python3"
    },
    "language_info": {
      "codemirror_mode": {
        "name": "ipython",
        "version": 3
      },
      "file_extension": ".py",
      "mimetype": "text/x-python",
      "name": "python",
      "nbconvert_exporter": "python",
      "pygments_lexer": "ipython3",
      "version": "3.10.11"
    }
  },
  "nbformat": 4,
  "nbformat_minor": 0
}