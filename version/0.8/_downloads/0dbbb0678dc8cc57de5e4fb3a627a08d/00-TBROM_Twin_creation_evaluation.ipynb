{
  "cells": [
    {
      "cell_type": "markdown",
      "metadata": {},
      "source": [
        "\n# Static ROM creation, Twin generation and evaluation\nThis example shows how you can use PyAEDT and PyTwin together. PyAEDT is used on one side\nto generate a static ROM based on training data, and then create and export a twin model.\nPyTwin is used on the other side to load and evaluate the generated twin model.\nParametric field history results (i.e. transient results collected on a fixed time interval\nfor different parameters values) have been generated out of LS-DYNA simulations. Once the twin\nis generated, it can be evaluated to make predictions of time series (e.g. transient displacement at\na given probe location)\n\n<div class=\"alert alert-info\"><h4>Note</h4><p>This example requires an installation of Ansys Twin Builder 2025R1 or above.</p></div>\n"
      ]
    },
    {
      "cell_type": "markdown",
      "metadata": {},
      "source": [
        "<img src=\"file://_static/TBROM_parametric_field_history.png\" width=\"400pt\" align=\"center\">\n\n"
      ]
    },
    {
      "cell_type": "code",
      "execution_count": null,
      "metadata": {
        "collapsed": false
      },
      "outputs": [],
      "source": [
        "# sphinx_gallery_thumbnail_path = '_static/TBROM_parametric_field_history.png'"
      ]
    },
    {
      "cell_type": "markdown",
      "metadata": {},
      "source": [
        "## Perform required imports\nPerform required imports, which include downloading and importing the\ninput files.\n\n"
      ]
    },
    {
      "cell_type": "code",
      "execution_count": null,
      "metadata": {
        "collapsed": false
      },
      "outputs": [],
      "source": [
        "import csv\nimport json\nimport os\nimport shutil\nimport zipfile\n\nfrom ansys.aedt.core import TwinBuilder, generate_unique_project_name\nimport matplotlib.pyplot as plt\nimport numpy as np\nimport pandas as pd\nfrom pytwin import TwinModel, download_file, read_binary\n\ntraining_data_zip = \"training_data.zip\"\ndownload_folder = download_file(training_data_zip, \"other_files\", force_download=True)\ntraining_data_folder = os.path.join(os.path.dirname(download_folder), \"training_data\")\n# Unzip training data\nwith zipfile.ZipFile(download_folder) as zf:\n    zf.extractall(training_data_folder)"
      ]
    },
    {
      "cell_type": "markdown",
      "metadata": {},
      "source": [
        "## Define auxiliary functions\nDefine auxiliary functions for computing # the norm of the output field.\n\n"
      ]
    },
    {
      "cell_type": "code",
      "execution_count": null,
      "metadata": {
        "collapsed": false
      },
      "outputs": [],
      "source": [
        "def norm_vector_history(field: np.ndarray, index: int):\n    \"\"\"Compute the norm of a vector field.\"\"\"\n    result = []\n    for i in range(0, field.shape[0]):\n        vec = field[i, :].reshape((-1, 3))\n        result.append(np.sqrt((vec * vec).sum(axis=1))[index])\n    return result"
      ]
    },
    {
      "cell_type": "markdown",
      "metadata": {},
      "source": [
        "## Project settings\nDefine Twin Builder project related settings and inputs files. The following code\nlaunches Twin Builder in graphical mode. You can change the Boolean parameter\n``non_graphical`` to ``True`` to launch Twin Builder in non-graphical mode.\nYou can also change the Boolean parameter ``new_thread`` to ``False`` to\nlaunch Twin Builder in an existing AEDT session if one is running.\n\n"
      ]
    },
    {
      "cell_type": "code",
      "execution_count": null,
      "metadata": {
        "collapsed": false
      },
      "outputs": [],
      "source": [
        "source_build_conf_file = \"SROMbuild.conf\"\nsource_props_conf_file = \"SROM_props.conf\"  # Note : SROM_props.conf may need to be adapted if inputs names change!\ndesktop_version = \"2025.1\"\nnon_graphical = False\nnew_thread = True\nconfpath = os.path.join(training_data_folder, source_build_conf_file)\ndoefile = os.path.join(training_data_folder, \"doe.csv\")\nsettingsfile = os.path.join(training_data_folder, \"settings.json\")"
      ]
    },
    {
      "cell_type": "markdown",
      "metadata": {},
      "source": [
        "## ROM creation\nCreate a Twin Builder instance\n\n"
      ]
    },
    {
      "cell_type": "code",
      "execution_count": null,
      "metadata": {
        "collapsed": false
      },
      "outputs": [],
      "source": [
        "tb = TwinBuilder(\n    project=generate_unique_project_name(), version=desktop_version, non_graphical=non_graphical, new_desktop=new_thread\n)\n\n# Switch the current desktop configuration and the schematic environment to \"Twin Builder\" (Static ROM Builder is\n# available with Twin Builder).\ncurrent_desktop_config = tb.odesktop.GetDesktopConfiguration()\ncurrent_schematic_environment = tb.odesktop.GetSchematicEnvironment()\ntb.odesktop.SetDesktopConfiguration(\"Twin Builder\")\ntb.odesktop.SetSchematicEnvironment(1)\n\n# Get the static ROM builder object\nrom_manager = tb.odesign.GetROMManager()\nstatic_rom_builder = rom_manager.GetStaticROMBuilder()\n\n# Build the static ROM with specified configuration file\nstatic_rom_builder.Build(confpath.replace(\"\\\\\", \"/\"))\n\n# Test if ROM was created successfully\nstatic_rom_path = os.path.join(training_data_folder, \"StaticRom.rom\")\nif os.path.exists(static_rom_path):\n    tb.logger.info(\"Built intermediate rom file successfully at: %s\", static_rom_path)\nelse:\n    tb.logger.error(\"Intermediate rom file not found at: %s\", static_rom_path)\n\n# Create the ROM component definition in Twin Builder\nrom_manager.CreateROMComponent(static_rom_path.replace(\"\\\\\", \"/\"), \"staticrom\")"
      ]
    },
    {
      "cell_type": "markdown",
      "metadata": {},
      "source": [
        "## Twin composition and export\nDefine the grid distance for ease in calculations.\n\n"
      ]
    },
    {
      "cell_type": "code",
      "execution_count": null,
      "metadata": {
        "collapsed": false
      },
      "outputs": [],
      "source": [
        "G = 0.00254\n\n# Create the Twin Subsheet.\nparentDesign = \"ParentDesign\"\nsubSheet = \"SubSheet\"\ntb.create_subsheet(subSheet, parentDesign)\nidSubSheet = len(tb.odesign.GetSubDesigns())\ntb.set_active_design(parentDesign + \"::SubSheet\" + str(idSubSheet))\n\n# Place the ROM component, parameterize and connect to port interfaces.\nrom1 = tb.modeler.schematic.create_component(\"ROM1\", \"\", \"staticrom\", [40 * G, 25 * G])\nrom1.parameters[\"field_data_storage_period\"] = \"0\"\nrom1.parameters[\"store_snapshots\"] = \"1\"\ntb.modeler.schematic.add_pin_iports(\"ROM1\", rom1.id)\n\ntb.logger.info(\"Subsheet created, starting Twin compilation\")\n\n# twin compilation\ntwinname = \"TwinModel\"\ntb.odesign.CompileAsTwin(twinname, [\"1\", \"0.001\", \"1e-4\", \"1e-12\"])\n\n# twin export\ntwinFile = os.path.join(training_data_folder, twinname + \".twin\")\ntb.modeler.schematic.o_simmodel_manager.ExportTwinModel(twinname, twinFile, \"twin\", \"other\", \"1\", \"1\")\n\ntb.logger.info(\"Twin compiled and exported. Closing Twin Builder.\")\n\n# Restore earlier desktop configuration and schematic environment.\ntb.odesktop.SetDesktopConfiguration(current_desktop_config)\ntb.odesktop.SetSchematicEnvironment(current_schematic_environment)\n\ntb.release_desktop()"
      ]
    },
    {
      "cell_type": "markdown",
      "metadata": {},
      "source": [
        "## Twin evaluation\nEvaluate the exported Twin with PyTwin and post process the results\n\n"
      ]
    },
    {
      "cell_type": "code",
      "execution_count": null,
      "metadata": {
        "collapsed": false
      },
      "outputs": [],
      "source": [
        "# Read column header names\ninput_header_df = pd.read_csv(doefile, header=None, nrows=1, sep=r\";\\s+\", engine=\"python\", quoting=csv.QUOTE_ALL)\n\n# Read data, clean header names, and assemble final dataframe\ninputs_df = pd.read_csv(doefile, header=None, skiprows=1, sep=\";\")\ninputs_header_values = input_header_df.iloc[0][0].split(\";\")\ninputs_df.columns = inputs_header_values\ninputs = dict()\ndata_index = 0\nfor column in inputs_df.columns[1::]:\n    inputs[column] = inputs_df[column][data_index]\n\n# Read settings file\nwith open(settingsfile) as f:\n    data = json.load(f)\ntimeGrid = data[\"timeSeries\"][\"timeStepsValues\"]\nromdim = int(data[\"dimensionality\"][0])\n\n# Load and evaluate the Twin\nprint(\"Loading model: {}\".format(twinFile))\nprint(\"Twin inputs evaluated: {}\".format(inputs))\ntwin_model = TwinModel(twinFile)\nromname = twin_model.tbrom_names[0]\ntwin_model.initialize_evaluation(inputs=inputs)"
      ]
    },
    {
      "cell_type": "markdown",
      "metadata": {},
      "source": [
        "## Results post processing\nThe time history predictions for a particular probe (point #23) are post processed and compared to reference results.\n\n"
      ]
    },
    {
      "cell_type": "code",
      "execution_count": null,
      "metadata": {
        "collapsed": false
      },
      "outputs": [],
      "source": [
        "ref_snapshot = os.path.join(training_data_folder, \"snapshots\", inputs_df[inputs_df.columns[0]][data_index])\nref_data = read_binary(ref_snapshot).reshape(len(timeGrid), -1)\nsnapshot = twin_model.get_snapshot_filepath(romname)\nsnap_data = read_binary(snapshot).reshape(len(timeGrid), -1)\nprobe_id = 23\nplt.plot(timeGrid, norm_vector_history(ref_data, probe_id), label=\"reference\")\nplt.plot(timeGrid, norm_vector_history(snap_data, probe_id), label=\"rom\")\nplt.legend(loc=\"lower left\")\nplt.title(\"Displacement vs Time for point {}\".format(probe_id))\nplt.show()\n\n# Clean up the downloaded data\nshutil.rmtree(training_data_folder)"
      ]
    }
  ],
  "metadata": {
    "kernelspec": {
      "display_name": "Python 3",
      "language": "python",
      "name": "python3"
    },
    "language_info": {
      "codemirror_mode": {
        "name": "ipython",
        "version": 3
      },
      "file_extension": ".py",
      "mimetype": "text/x-python",
      "name": "python",
      "nbconvert_exporter": "python",
      "pygments_lexer": "ipython3",
      "version": "3.10.11"
    }
  },
  "nbformat": 4,
  "nbformat_minor": 0
}