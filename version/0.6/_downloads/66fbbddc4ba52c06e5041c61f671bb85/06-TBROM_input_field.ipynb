{
  "cells": [
    {
      "cell_type": "code",
      "execution_count": null,
      "metadata": {
        "collapsed": false
      },
      "outputs": [],
      "source": [
        "%matplotlib inline"
      ]
    },
    {
      "cell_type": "markdown",
      "metadata": {},
      "source": [
        "\n# 3D field ROM example for input field snapshot projection and snapshot generation on demand\n\nThis example shows how to use PyTwin to load and evaluate a twin model that has a\nfield ROM with inputs parameterized by both scalar and field data. The example also\nshows how to evaluate the output field data in the form of snapshots.\n"
      ]
    },
    {
      "cell_type": "markdown",
      "metadata": {},
      "source": [
        "<img src=\"file://_static/TBROM_input_field.png\" width=\"400pt\" align=\"center\">\n\n"
      ]
    },
    {
      "cell_type": "code",
      "execution_count": null,
      "metadata": {
        "collapsed": false
      },
      "outputs": [],
      "source": [
        "# sphinx_gallery_thumbnail_path = '_static/TBROM_input_field.png'"
      ]
    },
    {
      "cell_type": "markdown",
      "metadata": {},
      "source": [
        "The example model is a valve that takes fluid pressure magnitude as a scalar input and wall\ntemperature as vector input and gives deformation, in meters, as an output.\n\nResults are available on the full model, or can be exported on two subgroups:\n\n**Group_1**: Bolts\n\n<img src=\"file://_static/TBROM_Group1_bolts.png\" width=\"150pt\" align=\"center\">\n\n**Group_2**: Body\n\n<img src=\"file://_static/TBROM_Group2_body.png\" width=\"150pt\" align=\"center\">\n\n"
      ]
    },
    {
      "cell_type": "markdown",
      "metadata": {},
      "source": [
        "<div class=\"alert alert-info\"><h4>Note</h4><p>To be able to use the functionalities to project an input field snapshot, you must have a\n  twin with one or more TBROMs parameterized by input field data. Input mode coefficients\n  for TBROMs are connected to the twin's inputs following these conventions:\n\n  - If there are multiple TBROMs in the twin, the format for the name of the twin input must be\n    ``{input_field_name}_mode_{mode_index}_{tbrom_name}``.\n  - If there is a single TBROM in the twin, the format for the name of the twin input must be\n    ``{input_field_name}_mode_{mode_index}``.</p></div>\n<img src=\"file://_static/snapshot_projection.png\" width=\"300pt\" align=\"center\">\n\n"
      ]
    },
    {
      "cell_type": "markdown",
      "metadata": {},
      "source": [
        "<div class=\"alert alert-info\"><h4>Note</h4><p>To be able to use the functionalities to generate an output field snapshot on demand, you\n  must have a twin with one or more TBROMs. The output mode coefficients for the TBROMs\n  must be enabled when exporting the TBROMs and connected to twin outputs with following\n  these conventions:\n\n  - If there are multiple TBROMs in the twin, the format for the name of the twin\n    output must be ``outField_mode_{mode_index}_{tbrom_name}``.\n  - If there is a single TBROM in the twin, the format for the name of the twin\n    output must be ``outField_mode_{mode_index}``.</p></div>\n<img src=\"file://_static/snapshot_generation.png\" width=\"300pt\" align=\"center\">\n\n"
      ]
    },
    {
      "cell_type": "markdown",
      "metadata": {},
      "source": [
        "<div class=\"alert alert-info\"><h4>Note</h4><p>To be able to use the functionalities to generate points file on demand, you need to have a Twin with 1 or\n  more TBROM, for which its geometry is embedded when exporting the TBROMs to Twin Builder</p></div>\n<img src=\"file://_static/point_generation.png\" width=\"200pt\" align=\"center\">\n\n"
      ]
    },
    {
      "cell_type": "markdown",
      "metadata": {},
      "source": [
        "<div class=\"alert alert-info\"><h4>Note</h4><p>To be able to use the functionalities to generate points or snapshot on a named selection, you\n  need to have a Twin with 1 or more TBROM, for which Named Selections are defined.</p></div>\n<img src=\"file://_static/TBROM_named_selection.png\" width=\"207pt\" align=\"center\">\n\n"
      ]
    },
    {
      "cell_type": "markdown",
      "metadata": {},
      "source": [
        "## Perform required imports\nPerform required imports, which include downloading and importing the input files.\n\n"
      ]
    },
    {
      "cell_type": "code",
      "execution_count": null,
      "metadata": {
        "collapsed": false
      },
      "outputs": [],
      "source": [
        "import matplotlib.pyplot as plt\nimport numpy as np\nimport pandas as pd\nfrom pytwin import TwinModel, download_file\n\ntwin_file = download_file(\"ThermalTBROM_FieldInput_23R1.twin\", \"twin_files\", force_download=True)\ninputfieldsnapshots = [\n    download_file(\"TEMP_1.bin\", \"twin_input_files/inputFieldSnapshots\", force_download=True),\n    download_file(\"TEMP_2.bin\", \"twin_input_files/inputFieldSnapshots\", force_download=True),\n    download_file(\"TEMP_3.bin\", \"twin_input_files/inputFieldSnapshots\", force_download=True),\n]"
      ]
    },
    {
      "cell_type": "markdown",
      "metadata": {},
      "source": [
        "## Define auxiliary functions\nDefine auxiliary functions for comparing and plotting the results from\ndifferent input values evaluated on the twin model and for computing\nthe norm of the output field.\n\n"
      ]
    },
    {
      "cell_type": "code",
      "execution_count": null,
      "metadata": {
        "collapsed": false
      },
      "outputs": [],
      "source": [
        "def plot_result_comparison(results: pd.DataFrame):\n    \"\"\"Compare the results obtained from the different input values evaluated on\n    the twin model. The results datasets are provided as Pandas dataframes. The\n    function plots the results for a few variables of particular interest.\"\"\"\n\n    pd.set_option(\"display.precision\", 12)\n    pd.set_option(\"display.max_columns\", 20)\n    pd.set_option(\"display.expand_frame_repr\", False)\n\n    color = [\"g\"]\n    # Output ordering: T_inner, T1_out, T_outer, T2_out, T3_out\n    x_ind = 0\n    y0_ind = 2\n    y1_ind = 3\n    y2_ind = 4\n\n    # Plot simulation results (outputs versus input)\n    fig, ax = plt.subplots(ncols=1, nrows=1, figsize=(18, 7))\n\n    fig.subplots_adjust(hspace=0.5)\n    fig.set_tight_layout({\"pad\": 0.0})\n\n    axes0 = ax\n\n    results.plot(x=x_ind, y=y0_ind, ax=axes0, ls=\"dashed\", label=\"{}\".format(\"Maximum Deformation (Twin output)\"))\n    results.plot(\n        x=x_ind, y=y1_ind, ax=axes0, ls=\"-.\", label=\"{}\".format(\"Maximum Deformation (output field \" \"reconstruction)\")\n    )\n    results.plot(\n        x=x_ind,\n        y=y2_ind,\n        ax=axes0,\n        ls=\"-.\",\n        label=\"{}\".format(\"Maximum Deformation (output field reconstruction on Group_2)\"),\n    )\n\n    axes0.set_title(\"T-junction deformation response\")\n    axes0.set_xlabel(results.columns[x_ind] + \" [Pa]\")\n    axes0.set_ylabel(\"Deformation [m]\")\n\n    # Show plot\n    plt.show()\n\n\ndef norm_vector_field(field: np.ndarray):\n    \"\"\"Compute the norm of a vector field.\"\"\"\n    vec = field.reshape((-1, 3))\n    return np.sqrt((vec * vec).sum(axis=1))"
      ]
    },
    {
      "cell_type": "markdown",
      "metadata": {},
      "source": [
        "## Define ROM scalar inputs\nDefine the ROM scalar inputs.\n\n"
      ]
    },
    {
      "cell_type": "code",
      "execution_count": null,
      "metadata": {
        "collapsed": false
      },
      "outputs": [],
      "source": [
        "rom_inputs = [4000000, 5000000, 6000000]"
      ]
    },
    {
      "cell_type": "markdown",
      "metadata": {},
      "source": [
        "## Load the twin runtime and generate displacement results\nLoad the twin runtime and generate displacement results from the TBROM.\n\n"
      ]
    },
    {
      "cell_type": "code",
      "execution_count": null,
      "metadata": {
        "collapsed": false
      },
      "outputs": [],
      "source": [
        "print(\"Loading model: {}\".format(twin_file))\ntwin_model = TwinModel(twin_file)"
      ]
    },
    {
      "cell_type": "markdown",
      "metadata": {},
      "source": [
        "### Evaluate the twin with different input values and collect corresponding outputs\nBecause the twin is based on a static model, two options can be considered:\n\n- Set the initial input value to evaluate and run the initialization function (current approach).\n- Create an input dataframe considering all input values to evaluate and run the batch function\n  to evaluate. In this case, to execute the transient simulation, a time dimension must be\n  arbitrarily defined.\n\n"
      ]
    },
    {
      "cell_type": "code",
      "execution_count": null,
      "metadata": {
        "collapsed": false
      },
      "outputs": [],
      "source": [
        "results = []\ninput_name_all = list(twin_model.inputs.keys())\noutput_name_all = list(twin_model.outputs.keys())\n\n# remove the TBROM related pins from the twin's list of inputs and outputs\ninput_name_without_mcs = []\nfor i in input_name_all:\n    if \"_mode_\" not in i:\n        input_name_without_mcs.append(i)\nprint(f\"Twin physical inputs : {input_name_without_mcs}\")\noutput_name_without_mcs = []\nfor i in output_name_all:\n    if \"_mode_\" not in i:\n        output_name_without_mcs.append(i)\nprint(f\"Twin physical outputs : {output_name_without_mcs}\")\n\n# initialize the twin and collect information related to the TBROM and input field\nprint(f\"TBROMs part of the twin : {twin_model.tbrom_names}\")\nromname = twin_model.tbrom_names[0]\nprint(f\"Input fields associated with the TBROM {romname} : {twin_model.get_field_input_names(romname)}\")\nfieldname = twin_model.get_field_input_names(romname)[0]\nprint(f\"Named selections associated with the TBROM {romname} : {twin_model.get_named_selections(romname)}\")\nns = twin_model.get_named_selections(romname)[1]\n\ninput_name = input_name_without_mcs[0]\nfor i in range(0, len(rom_inputs)):\n    # initialize twin with input values and collect output value\n    dp = rom_inputs[i]\n    dp_input = {input_name: dp}\n    dp_field_input = {romname: {fieldname: inputfieldsnapshots[i]}}\n    twin_model.initialize_evaluation(inputs=dp_input, field_inputs=dp_field_input)\n    outputs = [dp]\n    for item in output_name_without_mcs:\n        outputs.append(twin_model.outputs[item])\n    outfield = twin_model.generate_snapshot(romname, False)  # generating the field output on the entire domain\n    outputs.append(max(norm_vector_field(outfield)))\n    outfieldns = twin_model.generate_snapshot(romname, False, ns)  # generating the field output on \"Group_2\"\n    outputs.append(max(norm_vector_field(outfieldns)))\n    results.append(outputs)\npoints_path = twin_model.generate_points(romname, True)  # generating the points file on whole domain\npointsns_path = twin_model.generate_points(romname, True, ns)  # generating the points file on \"Group_2\"\"\n\n\nsim_results = pd.DataFrame(\n    results, columns=[input_name] + output_name_without_mcs + [\"MaxDefSnapshot\", \"MaxDefSnapshotNs\"], dtype=float\n)"
      ]
    },
    {
      "cell_type": "markdown",
      "metadata": {},
      "source": [
        "### Simulate the twin in batch mode\nReset/re-initialize the twin and run the simulation in batch mode, which\npasses all the input data, simulates all the data points, and collects all\nthe outputs at once. The snapshots are then generated in a post-processing\nstep.\n\n"
      ]
    },
    {
      "cell_type": "code",
      "execution_count": null,
      "metadata": {
        "collapsed": false
      },
      "outputs": [],
      "source": [
        "dp_input = {input_name: rom_inputs[0]}\ndp_field_input = {romname: {fieldname: inputfieldsnapshots[0]}}\ntwin_model.initialize_evaluation(inputs=dp_input, field_inputs=dp_field_input)\n# creation of the input DataFrame including input field snapshots\ninput_df = pd.DataFrame({\"Time\": [0.0, 1.0, 2.0], input_name_without_mcs[0]: rom_inputs})\nbatch_results = twin_model.evaluate_batch(inputs_df=input_df, field_inputs={romname: {fieldname: inputfieldsnapshots}})\nprint(batch_results)\noutput_snapshots = twin_model.generate_snapshot_batch(batch_results, romname)"
      ]
    },
    {
      "cell_type": "markdown",
      "metadata": {},
      "source": [
        "## Plot results\nPlot the results.\n\n"
      ]
    },
    {
      "cell_type": "code",
      "execution_count": null,
      "metadata": {
        "collapsed": false
      },
      "outputs": [],
      "source": [
        "plot_result_comparison(sim_results)"
      ]
    }
  ],
  "metadata": {
    "kernelspec": {
      "display_name": "Python 3",
      "language": "python",
      "name": "python3"
    },
    "language_info": {
      "codemirror_mode": {
        "name": "ipython",
        "version": 3
      },
      "file_extension": ".py",
      "mimetype": "text/x-python",
      "name": "python",
      "nbconvert_exporter": "python",
      "pygments_lexer": "ipython3",
      "version": "3.9.13"
    }
  },
  "nbformat": 4,
  "nbformat_minor": 0
}