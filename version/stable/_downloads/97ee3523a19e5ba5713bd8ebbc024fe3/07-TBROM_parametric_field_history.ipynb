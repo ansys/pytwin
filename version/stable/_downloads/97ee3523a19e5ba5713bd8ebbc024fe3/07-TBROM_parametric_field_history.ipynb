{
  "cells": [
    {
      "cell_type": "markdown",
      "metadata": {},
      "source": [
        "\n# 3D parametric field history ROM example\n\nThis example shows how to use PyTwin to load and evaluate a twin model built upon a\nparametric field history ROM. Such ROM, created with Static ROM Builder, has parameters\nthat can be changed from one evaluation to another, and will output field predictions over\na time grid. The example shows how to evaluate and post process the results at different\ntime points.\n"
      ]
    },
    {
      "cell_type": "markdown",
      "metadata": {},
      "source": [
        "<img src=\"file://_static/TBROM_pfieldhistory_t250.png\" width=\"400pt\" align=\"center\">\n\n"
      ]
    },
    {
      "cell_type": "code",
      "execution_count": null,
      "metadata": {
        "collapsed": false
      },
      "outputs": [],
      "source": [
        "# sphinx_gallery_thumbnail_path = '_static/TBROM_pfieldhistory_t250.png'"
      ]
    },
    {
      "cell_type": "markdown",
      "metadata": {},
      "source": [
        "The example model is a simplified 3D mechanical frame tightened by two bolts.\nThe bolts are represented as forces applied to the tips of the component.\nThe magnitude of the deformation is dependent on the magnitude of both force\nparameters. Additionally, this component is made of a material that exhibits\ntime-dependent behavior, allowing the structure to undergo a mechanical\nphenomenon known as creep. Essentially, the deformation of the structure\nchanges over time, even under constant applied forces, which makes the problem\nsuitable for parametric field history ROM.\n\n"
      ]
    },
    {
      "cell_type": "markdown",
      "metadata": {},
      "source": [
        "<div class=\"alert alert-info\"><h4>Note</h4><p>To be able to use the functionalities illustrated in this example, you\n  must have a twin with one or more TBROMs. The output mode coefficients for the TBROMs\n  must be enabled when exporting the TBROMs and connected to twin outputs following\n  these conventions:\n\n  - If there are multiple TBROMs in the twin, the format for the name of the twin\n    output must be ``outField_mode_{mode_index}_{tbrom_name}``.\n  - If there is a single TBROM in the twin, the format for the name of the twin\n    output must be ``outField_mode_{mode_index}``.</p></div>\n<img src=\"file://_static/snapshot_generation.png\" width=\"300pt\" align=\"center\">\n\n"
      ]
    },
    {
      "cell_type": "markdown",
      "metadata": {},
      "source": [
        "<div class=\"alert alert-info\"><h4>Note</h4><p>To be able to use the functionalities to visualize the results, you need to have a Twin with 1 or\n  more TBROM, for which its geometry is embedded when exporting the TBROMs to Twin Builder</p></div>\n<img src=\"file://_static/point_generation.png\" width=\"200pt\" align=\"center\">\n\n"
      ]
    },
    {
      "cell_type": "markdown",
      "metadata": {},
      "source": [
        "## Perform required imports\nPerform required imports, which include downloading and importing the input files.\n\n"
      ]
    },
    {
      "cell_type": "code",
      "execution_count": null,
      "metadata": {
        "collapsed": false
      },
      "outputs": [],
      "source": [
        "import matplotlib.pyplot as plt\nimport numpy as np\nfrom pytwin import TwinModel, download_file\nimport pyvista as pv\n\ntwin_file = download_file(\"TwinPFieldHistory_wGeo_25R2.twin\", \"twin_files\", force_download=True)"
      ]
    },
    {
      "cell_type": "markdown",
      "metadata": {},
      "source": [
        "## Define ROM scalar inputs\nDefine the ROM scalar inputs.\n\n"
      ]
    },
    {
      "cell_type": "code",
      "execution_count": null,
      "metadata": {
        "collapsed": false
      },
      "outputs": [],
      "source": [
        "rom_inputs = {\"testROM_25r2_1_force_1_Magnitude\": 9500, \"testROM_25r2_1_force_2_Magnitude\": 16500}"
      ]
    },
    {
      "cell_type": "markdown",
      "metadata": {},
      "source": [
        "## Load the twin runtime and generate displacement results\nLoad the twin runtime, initialize the evaluation and display displacement results from the TBROM.\n\n"
      ]
    },
    {
      "cell_type": "code",
      "execution_count": null,
      "metadata": {
        "collapsed": false
      },
      "outputs": [],
      "source": [
        "print(\"Loading model: {}\".format(twin_file))\ntwin_model = TwinModel(twin_file)\ntwin_model.print_model_info()\nromname = twin_model.tbrom_names[0]\ntwin_model.initialize_evaluation(parameters=rom_inputs)\nfield_data = twin_model.get_tbrom_output_field(romname)\nplotter = pv.Plotter()\nplotter.set_background(\"white\")\nplotter.add_axes()\nplotter.add_mesh(field_data, scalar_bar_args={\"color\": \"black\"}, clim=[0.0, 6.0])\nplotter.add_title(\"Time = {}\".format(twin_model.evaluation_time))\nplotter.show()\nprint(max(field_data.active_scalars))"
      ]
    },
    {
      "cell_type": "markdown",
      "metadata": {},
      "source": [
        "<img src=\"file://_static/TBROM_pfieldhistory_t0.png\" width=\"400pt\" align=\"center\">\n\n"
      ]
    },
    {
      "cell_type": "markdown",
      "metadata": {},
      "source": [
        "### Evaluate the twin at different time points (3D field visualization)\nBecause the twin is based on a parametric field history ROM, the entire field\nhistory has been computed during the Twin initialization. In order to visualize\nthe results at different time points, the Twin can be advanced and simulated\nover time. A linear interpolation is performed in case the time selected\nis between two time steps of the field history.\n\n"
      ]
    },
    {
      "cell_type": "code",
      "execution_count": null,
      "metadata": {
        "collapsed": false
      },
      "outputs": [],
      "source": [
        "# After 100 seconds\ntwin_model.evaluate_step_by_step(100.0)\n\nfield_data = twin_model.get_tbrom_output_field(romname)\nplotter = pv.Plotter()\nplotter.set_background(\"white\")\nplotter.add_axes()\nplotter.add_mesh(field_data, scalar_bar_args={\"color\": \"black\"}, clim=[0.0, 6.0])\nplotter.add_title(\"Time = {}\".format(twin_model.evaluation_time))\nplotter.show()\nprint(max(field_data.active_scalars))"
      ]
    },
    {
      "cell_type": "markdown",
      "metadata": {},
      "source": [
        "<img src=\"file://_static/TBROM_pfieldhistory_t100.png\" width=\"400pt\" align=\"center\">\n\n"
      ]
    },
    {
      "cell_type": "code",
      "execution_count": null,
      "metadata": {
        "collapsed": false
      },
      "outputs": [],
      "source": [
        "# After 250 seconds\ntwin_model.evaluate_step_by_step(150.0)\n\nfield_data = twin_model.get_tbrom_output_field(romname)\nplotter = pv.Plotter()\nplotter.set_background(\"white\")\nplotter.add_axes()\nplotter.add_mesh(field_data, scalar_bar_args={\"color\": \"black\"}, clim=[0.0, 6.0])\nplotter.add_title(\"Time = {}\".format(twin_model.evaluation_time))\nplotter.show()\nprint(max(field_data.active_scalars))"
      ]
    },
    {
      "cell_type": "markdown",
      "metadata": {},
      "source": [
        "<img src=\"file://_static/TBROM_pfieldhistory_t250.png\" width=\"400pt\" align=\"center\">\n\n"
      ]
    },
    {
      "cell_type": "markdown",
      "metadata": {},
      "source": [
        "### Evaluate the twin at different time points (time series)\nIf we continue simulating the Twin over time, the field results won't change\nanymore since we have reached the end time of the field history. To evaluate the ROM\nagain, it needs to be re-initialized, with the possibility to change input parameters values.\nIn this section, we will see how to build and visualize a transient prediction\nat a given location.\n\n"
      ]
    },
    {
      "cell_type": "code",
      "execution_count": null,
      "metadata": {
        "collapsed": false
      },
      "outputs": [],
      "source": [
        "timegrid = twin_model.get_tbrom_time_grid(romname)\nprint(timegrid)\n\nfieldName = twin_model.get_field_output_name(romname) + \"-normed\"\n\npoint = np.array([0.0, 0.0, 0.0])\nidx = field_data.find_closest_point(point)\noutputValues = []\n\nclosest_pt = field_data.points[idx]\nprint(closest_pt)\n\ntwin_model.initialize_evaluation(parameters=rom_inputs)\noutputValues.append(field_data.point_data[fieldName][idx])\n\nfor i in range(1, len(timegrid)):\n    step = timegrid[i] - timegrid[i - 1]\n    twin_model.evaluate_step_by_step(step)\n    outputValues.append(field_data.point_data[fieldName][idx])\n\nplt.plot(timegrid, outputValues)\nplt.title(\"Displacement vs Time for point {}\".format(np.round(closest_pt, 3)))\nplt.show()"
      ]
    }
  ],
  "metadata": {
    "kernelspec": {
      "display_name": "Python 3",
      "language": "python",
      "name": "python3"
    },
    "language_info": {
      "codemirror_mode": {
        "name": "ipython",
        "version": 3
      },
      "file_extension": ".py",
      "mimetype": "text/x-python",
      "name": "python",
      "nbconvert_exporter": "python",
      "pygments_lexer": "ipython3",
      "version": "3.13.3"
    }
  },
  "nbformat": 4,
  "nbformat_minor": 0
}