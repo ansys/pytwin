{
  "cells": [
    {
      "cell_type": "code",
      "execution_count": null,
      "metadata": {
        "collapsed": false
      },
      "outputs": [],
      "source": [
        "%matplotlib inline"
      ]
    },
    {
      "cell_type": "markdown",
      "metadata": {},
      "source": [
        "\n# 3D field ROM co-simulation with FEA model\n\nThis example shows how PyTwin can be used to load and evaluate a Twin model in order to predict CFD results, in\nthe form of temperature field, and use them as inputs for a FEA thermal-structural analysis of T-junction which\nconsiders the mixing of 2 different flow temperatures\nThe example is based on PyTwin to evaluate the Twin results and convert them in an appropriate format, and PyMAPDL to\nload the FEA model, apply the temperature loads coming from the Twin and performing the thermal-structural analysis\n\nNOTE :\n\nTo generate snapshot files at initialization time, the ROM component included in the Twin must\nhave its parameter \"field_data_storage_period\" set to 0 and \"store_snapshots\" set to 1.\n\nTo generate images files at initialization time, the ROM component included in the Twin must have\nthe \"Embed Geometry\" and \"Generate Image\" options enabled at export time, and its parameter \"viewX_storage_period\" set\nto 0.\n\nThese parameters can be defined in the Twin Builder subsheet before Twin compilation, or exposed as Twin parameters.\n"
      ]
    },
    {
      "cell_type": "markdown",
      "metadata": {},
      "source": [
        "<img src=\"file://_static/TBROM_cosim_pymapdl.png\" width=\"400pt\" align=\"center\">\n\n"
      ]
    },
    {
      "cell_type": "code",
      "execution_count": null,
      "metadata": {
        "collapsed": false
      },
      "outputs": [],
      "source": [
        "# sphinx_gallery_thumbnail_path = '_static/TBROM_cosim_pymapdl.png'"
      ]
    },
    {
      "cell_type": "markdown",
      "metadata": {},
      "source": [
        "## Import all necessary modules and launch an instance of MAPDL\n\n"
      ]
    },
    {
      "cell_type": "code",
      "execution_count": null,
      "metadata": {
        "collapsed": false
      },
      "outputs": [],
      "source": [
        "import struct\n\nfrom ansys.mapdl.core import launch_mapdl\nimport numpy as np\nimport pandas as pd\nfrom pytwin import TwinModel, download_file\nimport pyvista as pv\n\ntwin_file = download_file(\"ThermalTBROM_23R1_other.twin\", \"twin_files\")\nfea_file = download_file(\"ThermalTBROM.dat\", \"other_files\")\n\n# start mapdl\nmapdl = launch_mapdl()\nprint(mapdl)"
      ]
    },
    {
      "cell_type": "markdown",
      "metadata": {},
      "source": [
        "## User inputs\nDefining user inputs\n\n"
      ]
    },
    {
      "cell_type": "code",
      "execution_count": null,
      "metadata": {
        "collapsed": false
      },
      "outputs": [],
      "source": [
        "cfd_inputs = {\"main_inlet_temperature\": 353.15, \"side_inlet_temperature\": 293.15}\nrom_parameters = {\"ThermalROM23R1_1_store_snapshots\": 1}"
      ]
    },
    {
      "cell_type": "markdown",
      "metadata": {},
      "source": [
        "## Auxiliary functions definition\nConversion of ROM snapshot for data mapping on FEA mesh.\n\n"
      ]
    },
    {
      "cell_type": "code",
      "execution_count": null,
      "metadata": {
        "collapsed": false
      },
      "outputs": [],
      "source": [
        "def snapshot_to_fea(snapshot_file, geometry_file):\n    \"\"\"Create a Pandas Dataframe containing the ROM geometry x, y , z coordinates as well as the snapshot file result\"\"\"\n    with open(geometry_file, \"rb\") as geo, open(snapshot_file, \"rb\") as snp:\n        nb = struct.unpack(\"Q\", snp.read(8))[0]\n        struct.unpack(\"Q\", geo.read(8))\n        res_list = []\n        for i in range(nb):\n            res_line = []\n            res_line.append(struct.unpack(\"d\", geo.read(8))[0])\n            res_line.append(struct.unpack(\"d\", geo.read(8))[0])\n            res_line.append(struct.unpack(\"d\", geo.read(8))[0])\n            res_line.append(struct.unpack(\"d\", snp.read(8))[0])\n            res_list.append(res_line)\n\n    return pd.DataFrame(res_list)"
      ]
    },
    {
      "cell_type": "markdown",
      "metadata": {},
      "source": [
        "## Import and save the mesh.\n\n"
      ]
    },
    {
      "cell_type": "code",
      "execution_count": null,
      "metadata": {
        "collapsed": false
      },
      "outputs": [],
      "source": [
        "# reset mapdl & import geometry\nmapdl.clear()\nmapdl.input(fea_file)\n\n# Save mesh as VTK object\nprint(mapdl.mesh)\ngrid = mapdl.mesh.grid  # save mesh as a VTK object"
      ]
    },
    {
      "cell_type": "markdown",
      "metadata": {},
      "source": [
        "## Loading the Twin Runtime and generate the temperature results for FEA load\n\n"
      ]
    },
    {
      "cell_type": "code",
      "execution_count": null,
      "metadata": {
        "collapsed": false
      },
      "outputs": [],
      "source": [
        "print(\"Loading model: {}\".format(twin_file))\ntwin_model = TwinModel(twin_file)\n\ntwin_model.initialize_evaluation(inputs=cfd_inputs, parameters=rom_parameters)\n\nrom_name = twin_model.tbrom_names[0]\nsnapshot = twin_model.get_snapshot_filepath(rom_name=rom_name)\ngeometry = twin_model.get_geometry_filepath(rom_name=rom_name)\n\ntemperature_file = snapshot_to_fea(snapshot, geometry)"
      ]
    },
    {
      "cell_type": "markdown",
      "metadata": {},
      "source": [
        "## Map temperature data to FEA mesh\n\n"
      ]
    },
    {
      "cell_type": "code",
      "execution_count": null,
      "metadata": {
        "collapsed": false
      },
      "outputs": [],
      "source": [
        "temperature_data = temperature_file.values  # Save data to a NumPy array\nnd_temp_data = temperature_data[:, :].astype(float)  # Change data type to Float\n\n# Map temperature data to FE mesh\n# Convert imported data into PolyData format\nwrapped = pv.PolyData(nd_temp_data[:, :3])  # Convert NumPy array to PolyData format\nwrapped[\"temperature\"] = nd_temp_data[:, 3]  # Add a scalar variable 'temperature' to PolyData\n\n# Perform data mapping\ninter_grid = grid.interpolate(\n    wrapped, sharpness=5, radius=0.0001, strategy=\"closest_point\", progress_bar=True\n)  # Map the imported data to MAPDL grid\ninter_grid.plot(show_edges=False)  # Plot the interpolated data on MAPDL grid\ntemperature_load_val = pv.convert_array(\n    pv.convert_array(inter_grid.active_scalars)\n)  # Save temperatures interpolated to each node as NumPy array\nnode_num = inter_grid.point_data[\"ansys_node_num\"]  # Save node numbers as NumPy array"
      ]
    },
    {
      "cell_type": "markdown",
      "metadata": {},
      "source": [
        "<img src=\"file://_static/TBROM_cosim_pymapdl_mapping.png\" width=\"400pt\" align=\"center\">\n\n"
      ]
    },
    {
      "cell_type": "markdown",
      "metadata": {},
      "source": [
        "## Apply loads and boundary conditions and solve the model\n\n"
      ]
    },
    {
      "cell_type": "code",
      "execution_count": null,
      "metadata": {
        "collapsed": false
      },
      "outputs": [],
      "source": [
        "# Read all nodal coords. to an array & extract the X and Y min. bounds\narray_nodes = mapdl.mesh.nodes\nXmax = np.amax(array_nodes[:, 0])\nYmin = np.amin(array_nodes[:, 1])\nYmax = np.amax(array_nodes[:, 1])\n\n# Enter /SOLU processor to apply loads and BCs\nmapdl.finish()\nmapdl.slashsolu()\n\n# Enter non-interactive mode to assign thermal load at each node using imported data\nwith mapdl.non_interactive:\n    for node, temp in zip(node_num, temperature_load_val):\n        mapdl.bf(node, \"TEMP\", temp)\n# Use the X and Y min. bounds to select nodes from five surfaces that are to be fixed and created a component and fix\n# all DOFs.\nmapdl.nsel(\"s\", \"LOC\", \"X\", Xmax)  # Select all nodes whose X coord.=Xmax\nmapdl.nsel(\"a\", \"LOC\", \"Y\", Ymin)  # Select all nodes whose Y coord.=Ymin and add to previous selection\nmapdl.nsel(\"a\", \"LOC\", \"Y\", Ymax)  # Select all nodes whose Y coord.=Ymax and add to previous selection\nmapdl.cm(\"fixed_nodes\", \"NODE\")  # Create a nodal component 'fixed_nodes'\nmapdl.allsel()  # Revert active selection to full model\nmapdl.d(\"fixed_nodes\", \"all\", 0)  # Impose fully fixed constraint on component created earlier\n\n# Solve the model\noutput = mapdl.solve()\nprint(output)"
      ]
    },
    {
      "cell_type": "markdown",
      "metadata": {},
      "source": [
        "## Post-processing\n\n"
      ]
    },
    {
      "cell_type": "code",
      "execution_count": null,
      "metadata": {
        "collapsed": false
      },
      "outputs": [],
      "source": [
        "# Enter post-processor\nmapdl.post1()\nmapdl.set(1, 1)  # Select first load step\nmapdl.post_processing.plot_nodal_eqv_stress()  # Plot equivalent stress"
      ]
    },
    {
      "cell_type": "markdown",
      "metadata": {},
      "source": [
        "<img src=\"file://_static/TBROM_cosim_pymapdl_results.png\" width=\"400pt\" align=\"center\">\n\n"
      ]
    },
    {
      "cell_type": "markdown",
      "metadata": {},
      "source": [
        "## Exit MAPDL instance\n\n"
      ]
    },
    {
      "cell_type": "code",
      "execution_count": null,
      "metadata": {
        "collapsed": false
      },
      "outputs": [],
      "source": [
        "mapdl.exit()"
      ]
    }
  ],
  "metadata": {
    "kernelspec": {
      "display_name": "Python 3",
      "language": "python",
      "name": "python3"
    },
    "language_info": {
      "codemirror_mode": {
        "name": "ipython",
        "version": 3
      },
      "file_extension": ".py",
      "mimetype": "text/x-python",
      "name": "python",
      "nbconvert_exporter": "python",
      "pygments_lexer": "ipython3",
      "version": "3.9.13"
    }
  },
  "nbformat": 4,
  "nbformat_minor": 0
}