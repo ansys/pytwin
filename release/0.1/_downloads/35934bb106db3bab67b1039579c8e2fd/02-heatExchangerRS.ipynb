{
  "cells": [
    {
      "cell_type": "code",
      "execution_count": null,
      "metadata": {
        "collapsed": false
      },
      "outputs": [],
      "source": [
        "%matplotlib inline"
      ]
    },
    {
      "cell_type": "markdown",
      "metadata": {},
      "source": [
        "\n# Parametric response surface ROM Twin evaluation example\nThis example shows how you can use PyTwin to load and evaluate a Twin model\nand simulate multiple parametric variations. The model is based on a\nResponse Surface ROM created out of a steady state thermal model of a heat\nexchanger. The model takes as input the heat flow supplied on the inner face\nand outputs several temperature probes (inner temperature, 3 temperature probes\nwithin the solid and outer temperature). The model will be tested against\ndifferent input values to evaluate the corresponding temperature responses\n"
      ]
    },
    {
      "cell_type": "markdown",
      "metadata": {},
      "source": [
        "<img src=\"file://_static/heatExchangerRS.png\" width=\"400pt\" align=\"center\">\n\n"
      ]
    },
    {
      "cell_type": "code",
      "execution_count": null,
      "metadata": {
        "collapsed": false
      },
      "outputs": [],
      "source": [
        "# sphinx_gallery_thumbnail_path = '_static/heatExchangerRS.png'"
      ]
    },
    {
      "cell_type": "markdown",
      "metadata": {},
      "source": [
        "## Perform required imports\nPerform required imports, which includes downloading and importing the input files\n\n"
      ]
    },
    {
      "cell_type": "code",
      "execution_count": null,
      "metadata": {
        "collapsed": false
      },
      "outputs": [],
      "source": [
        "import matplotlib.pyplot as plt\nimport numpy\nimport pandas as pd\nfrom pytwin import TwinModel, download_file\n\ntwin_file = download_file(\"HeatExchangerRS_23R1_other.twin\", \"twin_files\")"
      ]
    },
    {
      "cell_type": "markdown",
      "metadata": {},
      "source": [
        "## User inputs\nDefining user inputs and simulation settings\n\n"
      ]
    },
    {
      "cell_type": "code",
      "execution_count": null,
      "metadata": {
        "collapsed": false
      },
      "outputs": [],
      "source": [
        "heat_flow_min = 0.0\nheat_flow_max = 50000.0\nstep = 50.0"
      ]
    },
    {
      "cell_type": "markdown",
      "metadata": {},
      "source": [
        "## Auxiliary functions definition\nDefinition of plot_result_comparison for post-processing the results\n\n"
      ]
    },
    {
      "cell_type": "code",
      "execution_count": null,
      "metadata": {
        "collapsed": false
      },
      "outputs": [],
      "source": [
        "def plot_result_comparison(results: pd.DataFrame):\n    \"\"\"Compare the results obtained from the different input values evaluated on the TwinModel. The\n    results dataset are provided as Pandas Dataframe. The function will plot the different results for few particular\n    variables of interest\"\"\"\n    pd.set_option(\"display.precision\", 12)\n    pd.set_option(\"display.max_columns\", 20)\n    pd.set_option(\"display.expand_frame_repr\", False)\n\n    color = [\"g\"]\n    # output ordering : T_inner, T1_out, T_outer, T2_out, T3_out\n    x_ind = 0\n    y0_ind = 1\n    y1_ind = 2\n    y2_ind = 4\n    y3_ind = 5\n    y4_ind = 3\n\n    # Plotting the simulation results (outputs vs input)\n    fig, ax = plt.subplots(ncols=1, nrows=1, figsize=(18, 7))\n\n    fig.subplots_adjust(hspace=0.5)\n    fig.set_tight_layout({\"pad\": 0.0})\n\n    axes0 = ax\n\n    results.plot(x=x_ind, y=y0_ind, ax=axes0, ls=\"-.\", label=\"{}\".format(\"T inner\"))\n    results.plot(x=x_ind, y=y1_ind, ax=axes0, ls=\"-.\", label=\"{}\".format(\"T1\"))\n    results.plot(x=x_ind, y=y2_ind, ax=axes0, ls=\"-.\", label=\"{}\".format(\"T2\"))\n    results.plot(x=x_ind, y=y3_ind, ax=axes0, ls=\"-.\", label=\"{}\".format(\"T3\"))\n    results.plot(x=x_ind, y=y4_ind, ax=axes0, ls=\"-.\", label=\"{}\".format(\"T outer\"))\n\n    axes0.set_title(\"Heat Exchanger thermal response\")\n    axes0.set_xlabel(results.columns[x_ind] + \" [W]\")\n    axes0.set_ylabel(\"Temperature [deg C]\")\n\n    # Show plot\n    plt.show()"
      ]
    },
    {
      "cell_type": "markdown",
      "metadata": {},
      "source": [
        "## Loading the Twin Runtime and instantiating it\nLoading the Twin Runtime and instantiating it.\n\n"
      ]
    },
    {
      "cell_type": "code",
      "execution_count": null,
      "metadata": {
        "collapsed": false
      },
      "outputs": [],
      "source": [
        "print(\"Loading model: {}\".format(twin_file))\ntwin_model = TwinModel(twin_file)"
      ]
    },
    {
      "cell_type": "markdown",
      "metadata": {},
      "source": [
        "## Evaluating the Twin with different input values and collecting the corresponding outputs\nSince the Twin is based on a static model, 2 different options can be considered :\n\n- setting the initial input value to evaluate and run the initialization function (current approach)\n- create an input dataframe considering all the input values to evaluate and run the evaluate batch function\n(in that case, a time dimension needs to be defined arbitrarily to execute the transient simulation)\n\n"
      ]
    },
    {
      "cell_type": "code",
      "execution_count": null,
      "metadata": {
        "collapsed": false
      },
      "outputs": [],
      "source": [
        "results = []\ninput_name = list(twin_model.inputs.keys())[0]\nfor dp in numpy.linspace(start=heat_flow_min, stop=heat_flow_max, num=int((heat_flow_max - heat_flow_min) / step + 1)):\n\n    # Twin initialization with the right input values and collection of initial outputs values\n    dp_input = {input_name: dp}\n    twin_model.initialize_evaluation(inputs=dp_input)\n    outputs = [dp]\n    for item in twin_model.outputs:\n        outputs.append(twin_model.outputs[item])\n    results.append(outputs)\n    if dp % 1000 == 0.0:\n        print(\"Simulating the model with input {}\".format(dp))\nsim_results = pd.DataFrame(results, columns=[input_name] + list(twin_model.outputs), dtype=float)"
      ]
    },
    {
      "cell_type": "markdown",
      "metadata": {},
      "source": [
        "## Post processing\nPlotting the different results and saving the image on disk\n\n"
      ]
    },
    {
      "cell_type": "code",
      "execution_count": null,
      "metadata": {
        "collapsed": false
      },
      "outputs": [],
      "source": [
        "plot_result_comparison(sim_results)"
      ]
    }
  ],
  "metadata": {
    "kernelspec": {
      "display_name": "Python 3",
      "language": "python",
      "name": "python3"
    },
    "language_info": {
      "codemirror_mode": {
        "name": "ipython",
        "version": 3
      },
      "file_extension": ".py",
      "mimetype": "text/x-python",
      "name": "python",
      "nbconvert_exporter": "python",
      "pygments_lexer": "ipython3",
      "version": "3.9.13"
    }
  },
  "nbformat": 4,
  "nbformat_minor": 0
}